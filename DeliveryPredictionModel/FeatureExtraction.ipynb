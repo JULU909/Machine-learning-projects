{
 "cells": [
  {
   "cell_type": "code",
   "execution_count": 1,
   "metadata": {},
   "outputs": [],
   "source": [
    "import pandas as pd\n",
    "import tensorflow as tf\n",
    "import keras \n",
    "import matplotlib.pyplot as plt\n",
    "import seaborn as sns\n"
   ]
  },
  {
   "cell_type": "code",
   "execution_count": 54,
   "metadata": {},
   "outputs": [
    {
     "name": "stdout",
     "output_type": "stream",
     "text": [
      "c:\\Users\\Harish Vasanth\\Desktop\\Machine-learning-projects\\DeliveryPredictionModel\n"
     ]
    }
   ],
   "source": [
    "import os\n",
    "from os import environ, path\n",
    "\n",
    "current_directory = os.getcwd()\n",
    "print(current_directory) \n",
    "df = pd.read_csv('data/historical_data.csv')\n"
   ]
  },
  {
   "cell_type": "code",
   "execution_count": 59,
   "metadata": {},
   "outputs": [],
   "source": [
    "df['actual_delivery_time'] = pd.to_datetime(df['actual_delivery_time'])\n",
    "df['created_at'] = pd.to_datetime(df['created_at'])\n",
    "df['actual_time_taken'] = df['actual_delivery_time']-df['created_at']\n",
    "df['date'] = pd.to_datetime(df['actual_delivery_time']).dt.date\n",
    "df['actual_time_taken'] = df['actual_time_taken']/ pd.offsets.Second(1) ## Transforms it into seconds"
   ]
  },
  {
   "cell_type": "code",
   "execution_count": 61,
   "metadata": {},
   "outputs": [],
   "source": [
    "cleaned  = df[df['actual_time_taken'] <= df.actual_time_taken.quantile(0.9999)] # removing the outliers\n",
    "cleaned = cleaned.dropna(\n",
    "    how='any', \n",
    "    subset=[\n",
    "        'actual_time_taken', \n",
    "        'market_id', \n",
    "        'store_primary_category',\n",
    "        'total_onshift_dashers',\n",
    "        'total_busy_dashers',\n",
    "        'total_outstanding_orders'\n",
    "    ],\n",
    ")"
   ]
  },
  {
   "cell_type": "code",
   "execution_count": 65,
   "metadata": {},
   "outputs": [
    {
     "data": {
      "text/plain": [
       "<Axes: ylabel='Frequency'>"
      ]
     },
     "execution_count": 65,
     "metadata": {},
     "output_type": "execute_result"
    },
    {
     "data": {
      "image/png": "[encoded data removed]",
      "text/plain": [
       "<Figure size 640x480 with 1 Axes>"
      ]
     },
     "metadata": {},
     "output_type": "display_data"
    }
   ],
   "source": [
    "cleaned.actual_time_taken.plot.hist(bins=100, log=True)"
   ]
  },
  {
   "cell_type": "code",
   "execution_count": 68,
   "metadata": {},
   "outputs": [],
   "source": [
    "integer_columns = [\n",
    "    'market_id',\n",
    "    'total_onshift_dashers',\n",
    "    'total_busy_dashers',\n",
    "    'total_outstanding_orders',\n",
    "]\n",
    "for column in integer_columns:\n",
    "    cleaned[column] = cleaned[column].astype('int32')"
   ]
  },
  {
   "cell_type": "code",
   "execution_count": null,
   "metadata": {},
   "outputs": [],
   "source": []
  },
  {
   "cell_type": "code",
   "execution_count": 74,
   "metadata": {},
   "outputs": [
    {
     "data": {
      "text/plain": [
       "market_id                                              float64\n",
       "created_at                                      datetime64[ns]\n",
       "actual_delivery_time                            datetime64[ns]\n",
       "store_id                                                 int64\n",
       "store_primary_category                                  object\n",
       "order_protocol                                         float64\n",
       "total_items                                              int64\n",
       "subtotal                                                 int64\n",
       "num_distinct_items                                       int64\n",
       "min_item_price                                           int64\n",
       "max_item_price                                           int64\n",
       "total_onshift_dashers                                  float64\n",
       "total_busy_dashers                                     float64\n",
       "total_outstanding_orders                               float64\n",
       "estimated_order_place_duration                           int64\n",
       "estimated_store_to_consumer_driving_duration           float64\n",
       "actual_time_taken                                      float64\n",
       "date                                                    object\n",
       "dtype: object"
      ]
     },
     "execution_count": 74,
     "metadata": {},
     "output_type": "execute_result"
    }
   ],
   "source": [
    "df.dtypes"
   ]
  },
  {
   "cell_type": "code",
   "execution_count": 69,
   "metadata": {},
   "outputs": [
    {
     "ename": "NameError",
     "evalue": "name 'extract_numerical_features' is not defined",
     "output_type": "error",
     "traceback": [
      "\u001b[1;31m---------------------------------------------------------------------------\u001b[0m",
      "\u001b[1;31mNameError\u001b[0m                                 Traceback (most recent call last)",
      "Cell \u001b[1;32mIn[69], line 1\u001b[0m\n\u001b[1;32m----> 1\u001b[0m basic_features \u001b[39m=\u001b[39m extract_numerical_features(cleaned_data)\n\u001b[0;32m      2\u001b[0m basic_features\u001b[39m.\u001b[39mhead()\n",
      "\u001b[1;31mNameError\u001b[0m: name 'extract_numerical_features' is not defined"
     ]
    }
   ],
   "source": [
    "basic_features = extract_numerical_features(cleaned_data)\n",
    "basic_features.head()"
   ]
  }
 ],
 "metadata": {
  "kernelspec": {
   "display_name": ".venv",
   "language": "python",
   "name": "python3"
  },
  "language_info": {
   "codemirror_mode": {
    "name": "ipython",
    "version": 3
   },
   "file_extension": ".py",
   "mimetype": "text/x-python",
   "name": "python",
   "nbconvert_exporter": "python",
   "pygments_lexer": "ipython3",
   "version": "3.11.3"
  },
  "orig_nbformat": 4
 },
 "nbformat": 4,
 "nbformat_minor": 2
}

{
 "cells": [
  {
   "cell_type": "markdown",
   "metadata": {},
   "source": [
    "#### Brain tumor Identification\n",
    "\n"
   ]
  },
  {
   "cell_type": "code",
   "execution_count": null,
   "metadata": {},
   "outputs": [],
   "source": [
    "\n",
    "import pandas as pd\n",
    "import cv2\n",
    "import numpy as np\n",
    "import os\n"
   ]
  },
  {
   "cell_type": "markdown",
   "metadata": {},
   "source": [
    "#### Directories"
   ]
  },
  {
   "cell_type": "code",
   "execution_count": null,
   "metadata": {},
   "outputs": [],
   "source": [
    "data_dir = r\"C:\\Users\\Harish Vasanth\\Desktop\\Machine-learning-projects\\BrainTumors\\Data\"\n"
   ]
  },
  {
   "cell_type": "code",
   "execution_count": 4,
   "metadata": {},
   "outputs": [],
   "source": [
    "m_tumor = r\"C:\\Users\\Harish Vasanth\\Desktop\\Machine-learning-projects\\BrainTumors\\Data\\meningioma_tumor\"\n",
    "g_tumor = r\"C:\\Users\\Harish Vasanth\\Desktop\\Machine-learning-projects\\BrainTumors\\Data\\glioma_tumor\"\n",
    "p_tumor = r\"C:\\Users\\Harish Vasanth\\Desktop\\Machine-learning-projects\\BrainTumors\\Data\\pituitary_tumor\"\n",
    "normal = r\"C:\\Users\\Harish Vasanth\\Desktop\\Machine-learning-projects\\BrainTumors\\Data\\normal\"\n",
    "\n",
    "imageFolders = [m_tumor,g_tumor,p_tumor,normal]"
   ]
  },
  {
   "cell_type": "code",
   "execution_count": null,
   "metadata": {},
   "outputs": [],
   "source": [
    "augmented_tumor_folder = 'path_to_save_augmented_tumor_images/'\n",
    "augmented_normal_folder = 'path_to_save_augmented_normal_images/'\n",
    "\n",
    "# Create output folders if they don't exist\n",
    "os.makedirs(augmented_tumor_folder, exist_ok=True)\n",
    "os.makedirs(augmented_normal_folder, exist_ok=True)\n"
   ]
  }
 ],
 "metadata": {
  "kernelspec": {
   "display_name": ".venv",
   "language": "python",
   "name": "python3"
  },
  "language_info": {
   "codemirror_mode": {
    "name": "ipython",
    "version": 3
   },
   "file_extension": ".py",
   "mimetype": "text/x-python",
   "name": "python",
   "nbconvert_exporter": "python",
   "pygments_lexer": "ipython3",
   "version": "3.10.0"
  }
 },
 "nbformat": 4,
 "nbformat_minor": 2
}

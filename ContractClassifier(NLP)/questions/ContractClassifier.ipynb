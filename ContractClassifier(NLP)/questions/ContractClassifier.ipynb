{
 "cells": [
  {
   "attachments": {},
   "cell_type": "markdown",
   "id": "f53ef2e2",
   "metadata": {},
   "source": [
    "<h1><center>NLP </center></h1>\n",
    "<h2><center> Machine Learning </center></h2>"
   ]
  },
  {
   "cell_type": "markdown",
   "id": "ce40cdf4",
   "metadata": {},
   "source": [
    "## Guideline:\n",
    "\n",
    "- File to use: **contract_dataset_v20220109.csv**\n",
    "- Train a **MULTI-CLASS CLASSIFICATION MODEL**. Your final model should be able to take in a test clause (column `provision`) and predict its provision type (column `label`). \n",
    "- Perform your own train-test split.\n",
    "- Choose your own evaluation metrics and explain your choice(s).\n",
    "- You may refer to, and/or copy code blocks from any public Github repositories, Kaggle kernels or tutorials online. However, please add a comment indicating the source.\n",
    "- You are free to conduct exploratory data analysis, write unit tests or any other additional steps as you find neccesary.\n",
    "- The purpose is NOT to train the best-performing model. It is to help us assess your ability to learn and apply NLP modelling techniques."
   ]
  },
  {
   "cell_type": "code",
   "execution_count": 30,
   "id": "e9314cca",
   "metadata": {},
   "outputs": [
    {
     "name": "stdout",
     "output_type": "stream",
     "text": [
      "Requirement already satisfied: wordcloud in c:\\users\\harish vasanth\\anaconda3\\lib\\site-packages (1.9.1.1)\n",
      "Requirement already satisfied: numpy>=1.6.1 in c:\\users\\harish vasanth\\anaconda3\\lib\\site-packages (from wordcloud) (1.20.3)\n",
      "Requirement already satisfied: pillow in c:\\users\\harish vasanth\\anaconda3\\lib\\site-packages (from wordcloud) (9.5.0)\n",
      "Requirement already satisfied: matplotlib in c:\\users\\harish vasanth\\anaconda3\\lib\\site-packages (from wordcloud) (3.4.3)\n",
      "Requirement already satisfied: kiwisolver>=1.0.1 in c:\\users\\harish vasanth\\anaconda3\\lib\\site-packages (from matplotlib->wordcloud) (1.3.1)\n",
      "Requirement already satisfied: python-dateutil>=2.7 in c:\\users\\harish vasanth\\anaconda3\\lib\\site-packages (from matplotlib->wordcloud) (2.8.2)\n",
      "Requirement already satisfied: pyparsing>=2.2.1 in c:\\users\\harish vasanth\\anaconda3\\lib\\site-packages (from matplotlib->wordcloud) (3.0.4)\n",
      "Requirement already satisfied: cycler>=0.10 in c:\\users\\harish vasanth\\anaconda3\\lib\\site-packages (from matplotlib->wordcloud) (0.10.0)\n",
      "Requirement already satisfied: six in c:\\users\\harish vasanth\\anaconda3\\lib\\site-packages (from cycler>=0.10->matplotlib->wordcloud) (1.16.0)\n"
     ]
    }
   ],
   "source": [
    "import pandas as pd\n",
    "import numpy as np\n",
    "import tensorflow\n",
    "from tensorflow.keras.layers import Input , Dense , Conv2D , MaxPooling2D , UpSampling2D\n",
    "from tensorflow.keras.models import Sequential\n",
    "from matplotlib.pyplot import imshow\n",
    "!pip install wordcloud\n",
    "from wordcloud import WordCloud\n",
    "import matplotlib.pyplot as plt\n",
    "from PIL import Image\n",
    "import seaborn as sns\n",
    "\n",
    "\n",
    "from sklearn.neural_network import MLPClassifier\n",
    "from sklearn.feature_extraction.text import CountVectorizer\n",
    "from sklearn.model_selection import train_test_split\n",
    "from sklearn.utils import shuffle\n",
    "from sklearn.naive_bayes import GaussianNB\n",
    "from sklearn.model_selection import train_test_split\n",
    "from sklearn.feature_extraction.text import TfidfVectorizer\n",
    "from sklearn.metrics import confusion_matrix, accuracy_score, classification_report\n",
    "from nltk.corpus import stopwords\n",
    "\n",
    "import matplotlib.pyplot as plt\n",
    "\n",
    "\n",
    "\n",
    "\n"
   ]
  },
  {
   "cell_type": "markdown",
   "id": "91b650bf",
   "metadata": {},
   "source": [
    "#### Reading the data"
   ]
  },
  {
   "cell_type": "code",
   "execution_count": 31,
   "id": "e1243708",
   "metadata": {},
   "outputs": [],
   "source": [
    "df = pd.read_csv('contract_dataset_v20220109.csv')"
   ]
  },
  {
   "cell_type": "code",
   "execution_count": 144,
   "id": "816fca3a",
   "metadata": {
    "scrolled": true
   },
   "outputs": [
    {
     "data": {
      "text/html": [
       "<div>\n",
       "<style scoped>\n",
       "    .dataframe tbody tr th:only-of-type {\n",
       "        vertical-align: middle;\n",
       "    }\n",
       "\n",
       "    .dataframe tbody tr th {\n",
       "        vertical-align: top;\n",
       "    }\n",
       "\n",
       "    .dataframe thead th {\n",
       "        text-align: right;\n",
       "    }\n",
       "</style>\n",
       "<table border=\"1\" class=\"dataframe\">\n",
       "  <thead>\n",
       "    <tr style=\"text-align: right;\">\n",
       "      <th></th>\n",
       "      <th>provision</th>\n",
       "      <th>label</th>\n",
       "      <th>source</th>\n",
       "      <th>Contract_Dates</th>\n",
       "      <th>Passwords</th>\n",
       "    </tr>\n",
       "  </thead>\n",
       "  <tbody>\n",
       "    <tr>\n",
       "      <th>0</th>\n",
       "      <td>Borrower and any endorsers or guarantors hereo...</td>\n",
       "      <td>['waivers']</td>\n",
       "      <td>2019/QTR1/000143774919001296/ex_133310.htm</td>\n",
       "      <td>Offer Expiration Date: 6/30/2025</td>\n",
       "      <td>0HT@a@z)jz%</td>\n",
       "    </tr>\n",
       "    <tr>\n",
       "      <th>1</th>\n",
       "      <td>No failure to exercise, and no delay in exerci...</td>\n",
       "      <td>['waivers']</td>\n",
       "      <td>2019/QTR1/000149315219002427/ex10-1.htm</td>\n",
       "      <td>Offer Expiration Date: 7/5/2023</td>\n",
       "      <td>v&amp;-TAdyt</td>\n",
       "    </tr>\n",
       "    <tr>\n",
       "      <th>2</th>\n",
       "      <td>Until the Discharge of Senior Lender Claims ha...</td>\n",
       "      <td>['waivers']</td>\n",
       "      <td>2019/QTR1/000114420419010508/tv513897_ex10-25.htm</td>\n",
       "      <td>Contract Start Date: 1 27 2024</td>\n",
       "      <td>ijwepC|Y:Og</td>\n",
       "    </tr>\n",
       "    <tr>\n",
       "      <th>3</th>\n",
       "      <td>Neither Party shall be deemed to have waived a...</td>\n",
       "      <td>['waivers']</td>\n",
       "      <td>2019/QTR1/000148881319000009/a1022cobaltagreem...</td>\n",
       "      <td>Offer Expiration Date: 9/2/2023</td>\n",
       "      <td>sYJA +T#t</td>\n",
       "    </tr>\n",
       "    <tr>\n",
       "      <th>4</th>\n",
       "      <td>No waiver of the provisions hereof shall be va...</td>\n",
       "      <td>['waivers']</td>\n",
       "      <td>2019/QTR1/000114420419011984/tv514470_ex10-15.htm</td>\n",
       "      <td>Contract Start Date: 4 august 2021</td>\n",
       "      <td>9~$z3TJ0N|F!Oep</td>\n",
       "    </tr>\n",
       "  </tbody>\n",
       "</table>\n",
       "</div>"
      ],
      "text/plain": [
       "                                           provision        label  \\\n",
       "0  Borrower and any endorsers or guarantors hereo...  ['waivers']   \n",
       "1  No failure to exercise, and no delay in exerci...  ['waivers']   \n",
       "2  Until the Discharge of Senior Lender Claims ha...  ['waivers']   \n",
       "3  Neither Party shall be deemed to have waived a...  ['waivers']   \n",
       "4  No waiver of the provisions hereof shall be va...  ['waivers']   \n",
       "\n",
       "                                              source  \\\n",
       "0         2019/QTR1/000143774919001296/ex_133310.htm   \n",
       "1            2019/QTR1/000149315219002427/ex10-1.htm   \n",
       "2  2019/QTR1/000114420419010508/tv513897_ex10-25.htm   \n",
       "3  2019/QTR1/000148881319000009/a1022cobaltagreem...   \n",
       "4  2019/QTR1/000114420419011984/tv514470_ex10-15.htm   \n",
       "\n",
       "                       Contract_Dates        Passwords  \n",
       "0    Offer Expiration Date: 6/30/2025      0HT@a@z)jz%  \n",
       "1     Offer Expiration Date: 7/5/2023         v&-TAdyt  \n",
       "2      Contract Start Date: 1 27 2024      ijwepC|Y:Og  \n",
       "3     Offer Expiration Date: 9/2/2023        sYJA +T#t  \n",
       "4  Contract Start Date: 4 august 2021  9~$z3TJ0N|F!Oep  "
      ]
     },
     "execution_count": 144,
     "metadata": {},
     "output_type": "execute_result"
    }
   ],
   "source": [
    "df.head()"
   ]
  },
  {
   "cell_type": "markdown",
   "id": "84db3b6f",
   "metadata": {},
   "source": [
    "#### Data cleaning"
   ]
  },
  {
   "cell_type": "code",
   "execution_count": 146,
   "id": "30755145",
   "metadata": {},
   "outputs": [],
   "source": [
    "df = df.drop_duplicates()\n",
    "label = df['label']\n",
    "provision = df['provision']"
   ]
  },
  {
   "cell_type": "code",
   "execution_count": 148,
   "id": "2aee6bbe",
   "metadata": {
    "scrolled": true
   },
   "outputs": [
    {
     "data": {
      "text/plain": [
       "['governing laws']            12522\n",
       "['counterparts']               9256\n",
       "['amendments']                 4795\n",
       "['terminations']               3748\n",
       "['waivers']                    3274\n",
       "['warranties']                  607\n",
       "['valid issuances']             129\n",
       "['government regulations']      127\n",
       "['trade relations']              53\n",
       "['trading activities']           38\n",
       "Name: label, dtype: int64"
      ]
     },
     "execution_count": 148,
     "metadata": {},
     "output_type": "execute_result"
    }
   ],
   "source": [
    "label.value_counts() #Checking to see the distribution of data\n"
   ]
  },
  {
   "cell_type": "code",
   "execution_count": 35,
   "id": "df864e06",
   "metadata": {
    "scrolled": true
   },
   "outputs": [
    {
     "data": {
      "text/plain": [
       "provision         0\n",
       "label             0\n",
       "source            0\n",
       "Contract_Dates    0\n",
       "Passwords         0\n",
       "dtype: int64"
      ]
     },
     "execution_count": 35,
     "metadata": {},
     "output_type": "execute_result"
    },
    {
     "data": {
      "image/png": "[encoded data removed]",
      "text/plain": [
       "<Figure size 360x360 with 1 Axes>"
      ]
     },
     "metadata": {
      "needs_background": "light"
     },
     "output_type": "display_data"
    }
   ],
   "source": [
    "\n",
    "fig, ax = plt.subplots(figsize=(5,5))   \n",
    "sns.heatmap(df.isnull(), yticklabels=False, cbar=False, cmap='viridis')\n",
    "df.isna().sum()\n",
    "#There doesn't seem to be any null values\n"
   ]
  },
  {
   "cell_type": "code",
   "execution_count": 143,
   "id": "6268aeea",
   "metadata": {
    "scrolled": true
   },
   "outputs": [
    {
     "data": {
      "image/png": "[encoded data removed]",
      "text/plain": [
       "<Figure size 432x288 with 1 Axes>"
      ]
     },
     "metadata": {
      "needs_background": "light"
     },
     "output_type": "display_data"
    }
   ],
   "source": [
    "# Distribution of data for the different labels\n",
    "maindata = df[['provision','label']]\n",
    "ax = maindata.groupby('label').count().plot(kind='bar', title='Distribution of data', legend=False)\n"
   ]
  },
  {
   "cell_type": "code",
   "execution_count": 37,
   "id": "888e7997",
   "metadata": {},
   "outputs": [
    {
     "name": "stderr",
     "output_type": "stream",
     "text": [
      "C:\\Users\\HARISH~1\\AppData\\Local\\Temp/ipykernel_16452/2053982368.py:1: SettingWithCopyWarning: \n",
      "A value is trying to be set on a copy of a slice from a DataFrame.\n",
      "Try using .loc[row_indexer,col_indexer] = value instead\n",
      "\n",
      "See the caveats in the documentation: https://pandas.pydata.org/pandas-docs/stable/user_guide/indexing.html#returning-a-view-versus-a-copy\n",
      "  maindata[\"provision_cleaned\"] = maindata[\"provision\"].str.lower()\n",
      "C:\\Users\\HARISH~1\\AppData\\Local\\Temp/ipykernel_16452/2053982368.py:2: FutureWarning: The default value of regex will change from True to False in a future version.\n",
      "  maindata[\"provision_cleaned\"] = maindata[\"provision_cleaned\"].str.replace('[^\\w\\s]', '')\n",
      "C:\\Users\\HARISH~1\\AppData\\Local\\Temp/ipykernel_16452/2053982368.py:2: SettingWithCopyWarning: \n",
      "A value is trying to be set on a copy of a slice from a DataFrame.\n",
      "Try using .loc[row_indexer,col_indexer] = value instead\n",
      "\n",
      "See the caveats in the documentation: https://pandas.pydata.org/pandas-docs/stable/user_guide/indexing.html#returning-a-view-versus-a-copy\n",
      "  maindata[\"provision_cleaned\"] = maindata[\"provision_cleaned\"].str.replace('[^\\w\\s]', '')\n"
     ]
    }
   ],
   "source": [
    "maindata[\"provision_cleaned\"] = maindata[\"provision\"].str.lower()\n",
    "maindata[\"provision_cleaned\"] = maindata[\"provision_cleaned\"].str.replace('[^\\w\\s]', '')\n",
    "## Lowercase and remove unnwanted strings.\n"
   ]
  },
  {
   "cell_type": "code",
   "execution_count": 38,
   "id": "036d99b9",
   "metadata": {
    "scrolled": true
   },
   "outputs": [
    {
     "data": {
      "text/html": [
       "<div>\n",
       "<style scoped>\n",
       "    .dataframe tbody tr th:only-of-type {\n",
       "        vertical-align: middle;\n",
       "    }\n",
       "\n",
       "    .dataframe tbody tr th {\n",
       "        vertical-align: top;\n",
       "    }\n",
       "\n",
       "    .dataframe thead th {\n",
       "        text-align: right;\n",
       "    }\n",
       "</style>\n",
       "<table border=\"1\" class=\"dataframe\">\n",
       "  <thead>\n",
       "    <tr style=\"text-align: right;\">\n",
       "      <th></th>\n",
       "      <th>provision</th>\n",
       "      <th>label</th>\n",
       "      <th>provision_cleaned</th>\n",
       "    </tr>\n",
       "  </thead>\n",
       "  <tbody>\n",
       "    <tr>\n",
       "      <th>0</th>\n",
       "      <td>Borrower and any endorsers or guarantors hereo...</td>\n",
       "      <td>['waivers']</td>\n",
       "      <td>borrower and any endorsers or guarantors hereo...</td>\n",
       "    </tr>\n",
       "    <tr>\n",
       "      <th>1</th>\n",
       "      <td>No failure to exercise, and no delay in exerci...</td>\n",
       "      <td>['waivers']</td>\n",
       "      <td>no failure to exercise and no delay in exercis...</td>\n",
       "    </tr>\n",
       "    <tr>\n",
       "      <th>2</th>\n",
       "      <td>Until the Discharge of Senior Lender Claims ha...</td>\n",
       "      <td>['waivers']</td>\n",
       "      <td>until the discharge of senior lender claims ha...</td>\n",
       "    </tr>\n",
       "    <tr>\n",
       "      <th>3</th>\n",
       "      <td>Neither Party shall be deemed to have waived a...</td>\n",
       "      <td>['waivers']</td>\n",
       "      <td>neither party shall be deemed to have waived a...</td>\n",
       "    </tr>\n",
       "    <tr>\n",
       "      <th>4</th>\n",
       "      <td>No waiver of the provisions hereof shall be va...</td>\n",
       "      <td>['waivers']</td>\n",
       "      <td>no waiver of the provisions hereof shall be va...</td>\n",
       "    </tr>\n",
       "    <tr>\n",
       "      <th>...</th>\n",
       "      <td>...</td>\n",
       "      <td>...</td>\n",
       "      <td>...</td>\n",
       "    </tr>\n",
       "    <tr>\n",
       "      <th>34544</th>\n",
       "      <td>The Buyer's trading activities with respect to...</td>\n",
       "      <td>['trading activities']</td>\n",
       "      <td>the buyers trading activities with respect to ...</td>\n",
       "    </tr>\n",
       "    <tr>\n",
       "      <th>34545</th>\n",
       "      <td>Neither the Buyer nor its affiliates has an op...</td>\n",
       "      <td>['trading activities']</td>\n",
       "      <td>neither the buyer nor its affiliates has an op...</td>\n",
       "    </tr>\n",
       "    <tr>\n",
       "      <th>34546</th>\n",
       "      <td>Neither the Holder nor its affiliates has an o...</td>\n",
       "      <td>['trading activities']</td>\n",
       "      <td>neither the holder nor its affiliates has an o...</td>\n",
       "    </tr>\n",
       "    <tr>\n",
       "      <th>34547</th>\n",
       "      <td>Neither the Holder nor its affiliates has an o...</td>\n",
       "      <td>['trading activities']</td>\n",
       "      <td>neither the holder nor its affiliates has an o...</td>\n",
       "    </tr>\n",
       "    <tr>\n",
       "      <th>34548</th>\n",
       "      <td>The Buyer’s trading activities with respect to...</td>\n",
       "      <td>['trading activities']</td>\n",
       "      <td>the buyers trading activities with respect to ...</td>\n",
       "    </tr>\n",
       "  </tbody>\n",
       "</table>\n",
       "<p>34549 rows × 3 columns</p>\n",
       "</div>"
      ],
      "text/plain": [
       "                                               provision  \\\n",
       "0      Borrower and any endorsers or guarantors hereo...   \n",
       "1      No failure to exercise, and no delay in exerci...   \n",
       "2      Until the Discharge of Senior Lender Claims ha...   \n",
       "3      Neither Party shall be deemed to have waived a...   \n",
       "4      No waiver of the provisions hereof shall be va...   \n",
       "...                                                  ...   \n",
       "34544  The Buyer's trading activities with respect to...   \n",
       "34545  Neither the Buyer nor its affiliates has an op...   \n",
       "34546  Neither the Holder nor its affiliates has an o...   \n",
       "34547  Neither the Holder nor its affiliates has an o...   \n",
       "34548  The Buyer’s trading activities with respect to...   \n",
       "\n",
       "                        label  \\\n",
       "0                 ['waivers']   \n",
       "1                 ['waivers']   \n",
       "2                 ['waivers']   \n",
       "3                 ['waivers']   \n",
       "4                 ['waivers']   \n",
       "...                       ...   \n",
       "34544  ['trading activities']   \n",
       "34545  ['trading activities']   \n",
       "34546  ['trading activities']   \n",
       "34547  ['trading activities']   \n",
       "34548  ['trading activities']   \n",
       "\n",
       "                                       provision_cleaned  \n",
       "0      borrower and any endorsers or guarantors hereo...  \n",
       "1      no failure to exercise and no delay in exercis...  \n",
       "2      until the discharge of senior lender claims ha...  \n",
       "3      neither party shall be deemed to have waived a...  \n",
       "4      no waiver of the provisions hereof shall be va...  \n",
       "...                                                  ...  \n",
       "34544  the buyers trading activities with respect to ...  \n",
       "34545  neither the buyer nor its affiliates has an op...  \n",
       "34546  neither the holder nor its affiliates has an o...  \n",
       "34547  neither the holder nor its affiliates has an o...  \n",
       "34548  the buyers trading activities with respect to ...  \n",
       "\n",
       "[34549 rows x 3 columns]"
      ]
     },
     "execution_count": 38,
     "metadata": {},
     "output_type": "execute_result"
    }
   ],
   "source": [
    "maindata"
   ]
  },
  {
   "cell_type": "code",
   "execution_count": null,
   "id": "f1f273e9",
   "metadata": {},
   "outputs": [],
   "source": []
  },
  {
   "cell_type": "markdown",
   "id": "dde6908b",
   "metadata": {},
   "source": [
    "\n"
   ]
  },
  {
   "cell_type": "code",
   "execution_count": 39,
   "id": "d6317b48",
   "metadata": {},
   "outputs": [
    {
     "name": "stderr",
     "output_type": "stream",
     "text": [
      "C:\\Users\\HARISH~1\\AppData\\Local\\Temp/ipykernel_16452/2106833244.py:2: SettingWithCopyWarning: \n",
      "A value is trying to be set on a copy of a slice from a DataFrame.\n",
      "Try using .loc[row_indexer,col_indexer] = value instead\n",
      "\n",
      "See the caveats in the documentation: https://pandas.pydata.org/pandas-docs/stable/user_guide/indexing.html#returning-a-view-versus-a-copy\n",
      "  maindata['provision_cleaned'] = maindata['provision_cleaned'].apply(lambda x: ' '.join([word for word in x.split() if word not in (stop_words)]))\n"
     ]
    }
   ],
   "source": [
    "stop_words = set(stopwords.words('english'))\n",
    "maindata['provision_cleaned'] = maindata['provision_cleaned'].apply(lambda x: ' '.join([word for word in x.split() if word not in (stop_words)]))\n"
   ]
  },
  {
   "cell_type": "code",
   "execution_count": 40,
   "id": "c6ddcf83",
   "metadata": {},
   "outputs": [],
   "source": [
    "label_map = {\n",
    "    \n",
    "    '[\\'governing laws\\']': 1,\n",
    "    '[\\'counterparts\\']': 2,    \n",
    "    '[\\'amendments\\']' : 3,                 \n",
    "    '[\\'terminations\\']' : 4,              \n",
    "    '[\\'waivers\\']': 5,                    \n",
    "    '[\\'warranties\\']': 6,                  \n",
    "    '[\\'valid issuances\\']': 7,             \n",
    "    '[\\'government regulations\\']': 8,      \n",
    "    '[\\'trade relations\\']': 9,         \n",
    "    '[\\'trading activities\\']': 0,  \n",
    "    \n",
    "    \n",
    "}"
   ]
  },
  {
   "cell_type": "code",
   "execution_count": 41,
   "id": "5fc32445",
   "metadata": {
    "scrolled": true
   },
   "outputs": [
    {
     "name": "stderr",
     "output_type": "stream",
     "text": [
      "C:\\Users\\HARISH~1\\AppData\\Local\\Temp/ipykernel_16452/986292357.py:1: SettingWithCopyWarning: \n",
      "A value is trying to be set on a copy of a slice from a DataFrame.\n",
      "Try using .loc[row_indexer,col_indexer] = value instead\n",
      "\n",
      "See the caveats in the documentation: https://pandas.pydata.org/pandas-docs/stable/user_guide/indexing.html#returning-a-view-versus-a-copy\n",
      "  maindata['label_vectors'] = maindata['label'].map(label_map)\n"
     ]
    }
   ],
   "source": [
    "maindata['label_vectors'] = maindata['label'].map(label_map)"
   ]
  },
  {
   "cell_type": "code",
   "execution_count": 42,
   "id": "0356e20f",
   "metadata": {
    "scrolled": false
   },
   "outputs": [
    {
     "data": {
      "text/html": [
       "<div>\n",
       "<style scoped>\n",
       "    .dataframe tbody tr th:only-of-type {\n",
       "        vertical-align: middle;\n",
       "    }\n",
       "\n",
       "    .dataframe tbody tr th {\n",
       "        vertical-align: top;\n",
       "    }\n",
       "\n",
       "    .dataframe thead th {\n",
       "        text-align: right;\n",
       "    }\n",
       "</style>\n",
       "<table border=\"1\" class=\"dataframe\">\n",
       "  <thead>\n",
       "    <tr style=\"text-align: right;\">\n",
       "      <th></th>\n",
       "      <th>provision</th>\n",
       "      <th>label</th>\n",
       "      <th>provision_cleaned</th>\n",
       "      <th>label_vectors</th>\n",
       "    </tr>\n",
       "  </thead>\n",
       "  <tbody>\n",
       "    <tr>\n",
       "      <th>0</th>\n",
       "      <td>Borrower and any endorsers or guarantors hereo...</td>\n",
       "      <td>['waivers']</td>\n",
       "      <td>borrower endorsers guarantors hereof severally...</td>\n",
       "      <td>5</td>\n",
       "    </tr>\n",
       "    <tr>\n",
       "      <th>1</th>\n",
       "      <td>No failure to exercise, and no delay in exerci...</td>\n",
       "      <td>['waivers']</td>\n",
       "      <td>failure exercise delay exercising part holder ...</td>\n",
       "      <td>5</td>\n",
       "    </tr>\n",
       "    <tr>\n",
       "      <th>2</th>\n",
       "      <td>Until the Discharge of Senior Lender Claims ha...</td>\n",
       "      <td>['waivers']</td>\n",
       "      <td>discharge senior lender claims occurred second...</td>\n",
       "      <td>5</td>\n",
       "    </tr>\n",
       "    <tr>\n",
       "      <th>3</th>\n",
       "      <td>Neither Party shall be deemed to have waived a...</td>\n",
       "      <td>['waivers']</td>\n",
       "      <td>neither party shall deemed waived rights power...</td>\n",
       "      <td>5</td>\n",
       "    </tr>\n",
       "    <tr>\n",
       "      <th>4</th>\n",
       "      <td>No waiver of the provisions hereof shall be va...</td>\n",
       "      <td>['waivers']</td>\n",
       "      <td>waiver provisions hereof shall valid unless wr...</td>\n",
       "      <td>5</td>\n",
       "    </tr>\n",
       "    <tr>\n",
       "      <th>...</th>\n",
       "      <td>...</td>\n",
       "      <td>...</td>\n",
       "      <td>...</td>\n",
       "      <td>...</td>\n",
       "    </tr>\n",
       "    <tr>\n",
       "      <th>34544</th>\n",
       "      <td>The Buyer's trading activities with respect to...</td>\n",
       "      <td>['trading activities']</td>\n",
       "      <td>buyers trading activities respect companys com...</td>\n",
       "      <td>0</td>\n",
       "    </tr>\n",
       "    <tr>\n",
       "      <th>34545</th>\n",
       "      <td>Neither the Buyer nor its affiliates has an op...</td>\n",
       "      <td>['trading activities']</td>\n",
       "      <td>neither buyer affiliates open short position h...</td>\n",
       "      <td>0</td>\n",
       "    </tr>\n",
       "    <tr>\n",
       "      <th>34546</th>\n",
       "      <td>Neither the Holder nor its affiliates has an o...</td>\n",
       "      <td>['trading activities']</td>\n",
       "      <td>neither holder affiliates open short position ...</td>\n",
       "      <td>0</td>\n",
       "    </tr>\n",
       "    <tr>\n",
       "      <th>34547</th>\n",
       "      <td>Neither the Holder nor its affiliates has an o...</td>\n",
       "      <td>['trading activities']</td>\n",
       "      <td>neither holder affiliates open short position ...</td>\n",
       "      <td>0</td>\n",
       "    </tr>\n",
       "    <tr>\n",
       "      <th>34548</th>\n",
       "      <td>The Buyer’s trading activities with respect to...</td>\n",
       "      <td>['trading activities']</td>\n",
       "      <td>buyers trading activities respect common stock...</td>\n",
       "      <td>0</td>\n",
       "    </tr>\n",
       "  </tbody>\n",
       "</table>\n",
       "<p>34549 rows × 4 columns</p>\n",
       "</div>"
      ],
      "text/plain": [
       "                                               provision  \\\n",
       "0      Borrower and any endorsers or guarantors hereo...   \n",
       "1      No failure to exercise, and no delay in exerci...   \n",
       "2      Until the Discharge of Senior Lender Claims ha...   \n",
       "3      Neither Party shall be deemed to have waived a...   \n",
       "4      No waiver of the provisions hereof shall be va...   \n",
       "...                                                  ...   \n",
       "34544  The Buyer's trading activities with respect to...   \n",
       "34545  Neither the Buyer nor its affiliates has an op...   \n",
       "34546  Neither the Holder nor its affiliates has an o...   \n",
       "34547  Neither the Holder nor its affiliates has an o...   \n",
       "34548  The Buyer’s trading activities with respect to...   \n",
       "\n",
       "                        label  \\\n",
       "0                 ['waivers']   \n",
       "1                 ['waivers']   \n",
       "2                 ['waivers']   \n",
       "3                 ['waivers']   \n",
       "4                 ['waivers']   \n",
       "...                       ...   \n",
       "34544  ['trading activities']   \n",
       "34545  ['trading activities']   \n",
       "34546  ['trading activities']   \n",
       "34547  ['trading activities']   \n",
       "34548  ['trading activities']   \n",
       "\n",
       "                                       provision_cleaned  label_vectors  \n",
       "0      borrower endorsers guarantors hereof severally...              5  \n",
       "1      failure exercise delay exercising part holder ...              5  \n",
       "2      discharge senior lender claims occurred second...              5  \n",
       "3      neither party shall deemed waived rights power...              5  \n",
       "4      waiver provisions hereof shall valid unless wr...              5  \n",
       "...                                                  ...            ...  \n",
       "34544  buyers trading activities respect companys com...              0  \n",
       "34545  neither buyer affiliates open short position h...              0  \n",
       "34546  neither holder affiliates open short position ...              0  \n",
       "34547  neither holder affiliates open short position ...              0  \n",
       "34548  buyers trading activities respect common stock...              0  \n",
       "\n",
       "[34549 rows x 4 columns]"
      ]
     },
     "execution_count": 42,
     "metadata": {},
     "output_type": "execute_result"
    }
   ],
   "source": [
    "maindata \n",
    "#Sanity check"
   ]
  },
  {
   "cell_type": "code",
   "execution_count": 43,
   "id": "9116b10f",
   "metadata": {},
   "outputs": [],
   "source": [
    "from collections import Counter\n",
    "\n",
    "# Count unique words\n",
    "def counter_word(text_col):\n",
    "    count = Counter()\n",
    "    for text in text_col.values:\n",
    "        for word in text.split():\n",
    "            count[word] += 1\n",
    "    return count\n",
    "\n",
    "\n",
    "dfp = df['provision']\n",
    "counter = counter_word(dfp)"
   ]
  },
  {
   "cell_type": "code",
   "execution_count": 45,
   "id": "f3eaa2a0",
   "metadata": {},
   "outputs": [],
   "source": [
    "num_unique_words = len(counter)"
   ]
  },
  {
   "cell_type": "markdown",
   "id": "b076f405",
   "metadata": {},
   "source": [
    "X"
   ]
  },
  {
   "cell_type": "markdown",
   "id": "dfde8943",
   "metadata": {},
   "source": [
    "#### Building model"
   ]
  },
  {
   "cell_type": "code",
   "execution_count": 129,
   "id": "1228f8b2",
   "metadata": {},
   "outputs": [],
   "source": [
    "from tensorflow.keras.optimizers import SGD\n",
    "\n",
    "from keras.models import Sequential\n",
    "from keras.layers import LSTM, Dense, Dropout, Masking, Embedding \n",
    "\n",
    "model = Sequential()\n",
    "\n",
    "\n",
    "# Embedding layer\n",
    "model.add(\n",
    "    Embedding(input_dim=num_unique_words,\n",
    "              input_length = 20,\n",
    "              output_dim=100,\n",
    "              mask_zero=True))\n",
    "\n",
    "# Masking layer for pre-trained embeddings\n",
    "\n",
    "# Recurrent layer\n",
    "model.add(LSTM(64, return_sequences=False, \n",
    "               dropout=0.1, recurrent_dropout=0.1))\n",
    "\n",
    "# Fully connected layer\n",
    "model.add(Dense(64, activation='relu'))\n",
    "\n",
    "# Dropout for regularization\n",
    "model.add(Dropout(0.5))\n",
    "\n",
    "# Output layer\n",
    "model.add(Dense(10, activation='softmax'))\n",
    "\n",
    "# Compile the model\n",
    "model.compile(\n",
    "    optimizer='adam', loss='sparse_categorical_crossentropy', metrics=['accuracy'])\n"
   ]
  },
  {
   "cell_type": "code",
   "execution_count": 130,
   "id": "bf464e6c",
   "metadata": {
    "scrolled": true
   },
   "outputs": [
    {
     "name": "stdout",
     "output_type": "stream",
     "text": [
      "Model: \"sequential_4\"\n",
      "_________________________________________________________________\n",
      " Layer (type)                Output Shape              Param #   \n",
      "=================================================================\n",
      " embedding_4 (Embedding)     (None, 20, 100)           2457000   \n",
      "                                                                 \n",
      " lstm_4 (LSTM)               (None, 64)                42240     \n",
      "                                                                 \n",
      " dense_8 (Dense)             (None, 64)                4160      \n",
      "                                                                 \n",
      " dropout_4 (Dropout)         (None, 64)                0         \n",
      "                                                                 \n",
      " dense_9 (Dense)             (None, 10)                650       \n",
      "                                                                 \n",
      "=================================================================\n",
      "Total params: 2,504,050\n",
      "Trainable params: 2,504,050\n",
      "Non-trainable params: 0\n",
      "_________________________________________________________________\n"
     ]
    }
   ],
   "source": [
    "model.build()\n",
    "model.summary()"
   ]
  },
  {
   "cell_type": "code",
   "execution_count": 131,
   "id": "981688aa",
   "metadata": {},
   "outputs": [],
   "source": [
    "test_data = maindata.sample(frac = 0.5)\n",
    "train_data = maindata.drop(test_data.index)\n",
    "\n",
    "# Creating dataframe split into 50-50\n"
   ]
  },
  {
   "cell_type": "code",
   "execution_count": 132,
   "id": "6a052356",
   "metadata": {},
   "outputs": [],
   "source": [
    "# Split dataset into training and validation set\n",
    "\n",
    "import numpy as np\n",
    "\n",
    "train_sentences = train_data['provision_cleaned'].to_numpy()\n",
    "train_labels = train_data['label_vectors'].to_numpy()\n",
    "val_sentences = test_data['provision_cleaned'].to_numpy()\n",
    "val_labels = test_data['label_vectors'].to_numpy()"
   ]
  },
  {
   "cell_type": "code",
   "execution_count": null,
   "id": "46564768",
   "metadata": {},
   "outputs": [],
   "source": []
  },
  {
   "cell_type": "code",
   "execution_count": 133,
   "id": "f97e6270",
   "metadata": {},
   "outputs": [],
   "source": [
    "# Tokenize\n",
    "from tensorflow.keras.preprocessing.text import Tokenizer\n",
    "\n",
    "# vectorize a text corpus by turning each text into a sequence of integers\n",
    "tokenizer = Tokenizer(num_words=num_unique_words)\n",
    "tokenizer.fit_on_texts(train_sentences) # fit only to traini"
   ]
  },
  {
   "cell_type": "code",
   "execution_count": 134,
   "id": "9e9576a5",
   "metadata": {},
   "outputs": [],
   "source": [
    "\n",
    "train_sequences = tokenizer.texts_to_sequences(train_sentences)\n",
    "val_sequences = tokenizer.texts_to_sequences(val_sentences)"
   ]
  },
  {
   "cell_type": "code",
   "execution_count": 135,
   "id": "df0ea193",
   "metadata": {},
   "outputs": [
    {
     "data": {
      "text/plain": [
       "((17275, 20), (17274, 20))"
      ]
     },
     "execution_count": 135,
     "metadata": {},
     "output_type": "execute_result"
    }
   ],
   "source": [
    "# Pad the sequences to have the same length\n",
    "from tensorflow.keras.preprocessing.sequence import pad_sequences\n",
    "\n",
    "# Max number of words in a sequence\n",
    "max_length = 20\n",
    "\n",
    "train_padded = pad_sequences(train_sequences, maxlen=max_length, padding=\"post\", truncating=\"post\")\n",
    "val_padded = pad_sequences(val_sequences, maxlen=max_length, padding=\"post\", truncating=\"post\")\n",
    "train_padded.shape, val_padded.shape"
   ]
  },
  {
   "cell_type": "code",
   "execution_count": null,
   "id": "8a238c28",
   "metadata": {},
   "outputs": [],
   "source": []
  },
  {
   "cell_type": "code",
   "execution_count": null,
   "id": "ceee5d0d",
   "metadata": {},
   "outputs": [],
   "source": []
  },
  {
   "cell_type": "code",
   "execution_count": 136,
   "id": "bbfc8d9a",
   "metadata": {
    "scrolled": false
   },
   "outputs": [
    {
     "name": "stdout",
     "output_type": "stream",
     "text": [
      "Epoch 1/15\n",
      "10/10 - 17s - loss: 2.2408 - accuracy: 0.4903 - val_loss: 2.1172 - val_accuracy: 0.6314 - 17s/epoch - 2s/step\n",
      "Epoch 2/15\n",
      "10/10 - 9s - loss: 1.8201 - accuracy: 0.5792 - val_loss: 1.2783 - val_accuracy: 0.6254 - 9s/epoch - 933ms/step\n",
      "Epoch 3/15\n",
      "10/10 - 9s - loss: 1.1189 - accuracy: 0.6162 - val_loss: 0.8431 - val_accuracy: 0.6370 - 9s/epoch - 922ms/step\n",
      "Epoch 4/15\n",
      "10/10 - 9s - loss: 0.8146 - accuracy: 0.6992 - val_loss: 0.6975 - val_accuracy: 0.7466 - 9s/epoch - 926ms/step\n",
      "Epoch 5/15\n",
      "10/10 - 9s - loss: 0.6405 - accuracy: 0.7646 - val_loss: 0.5283 - val_accuracy: 0.8244 - 9s/epoch - 941ms/step\n",
      "Epoch 6/15\n",
      "10/10 - 9s - loss: 0.5135 - accuracy: 0.7835 - val_loss: 0.4398 - val_accuracy: 0.8569 - 9s/epoch - 921ms/step\n",
      "Epoch 7/15\n",
      "10/10 - 9s - loss: 0.4052 - accuracy: 0.8368 - val_loss: 0.3207 - val_accuracy: 0.9000 - 9s/epoch - 936ms/step\n",
      "Epoch 8/15\n",
      "10/10 - 9s - loss: 0.2886 - accuracy: 0.9001 - val_loss: 0.2281 - val_accuracy: 0.9311 - 9s/epoch - 892ms/step\n",
      "Epoch 9/15\n",
      "10/10 - 9s - loss: 0.1995 - accuracy: 0.9425 - val_loss: 0.1811 - val_accuracy: 0.9422 - 9s/epoch - 894ms/step\n",
      "Epoch 10/15\n",
      "10/10 - 9s - loss: 0.1497 - accuracy: 0.9591 - val_loss: 0.1628 - val_accuracy: 0.9526 - 9s/epoch - 932ms/step\n",
      "Epoch 11/15\n",
      "10/10 - 10s - loss: 0.1272 - accuracy: 0.9671 - val_loss: 0.1532 - val_accuracy: 0.9587 - 10s/epoch - 950ms/step\n",
      "Epoch 12/15\n",
      "10/10 - 9s - loss: 0.1068 - accuracy: 0.9728 - val_loss: 0.1409 - val_accuracy: 0.9648 - 9s/epoch - 937ms/step\n",
      "Epoch 13/15\n",
      "10/10 - 9s - loss: 0.0925 - accuracy: 0.9777 - val_loss: 0.1373 - val_accuracy: 0.9653 - 9s/epoch - 921ms/step\n",
      "Epoch 14/15\n",
      "10/10 - 9s - loss: 0.0840 - accuracy: 0.9792 - val_loss: 0.1370 - val_accuracy: 0.9668 - 9s/epoch - 936ms/step\n",
      "Epoch 15/15\n",
      "10/10 - 9s - loss: 0.0712 - accuracy: 0.9826 - val_loss: 0.1325 - val_accuracy: 0.9673 - 9s/epoch - 927ms/step\n"
     ]
    }
   ],
   "source": [
    "history = model.fit(\n",
    "        train_padded, train_labels, verbose=2,\n",
    "        steps_per_epoch= 500 // 50,\n",
    "        epochs=15,\n",
    "        validation_data=(val_padded,val_labels),\n",
    "        validation_steps=75 // 30,\n",
    "        shuffle = True) \n"
   ]
  },
  {
   "cell_type": "markdown",
   "id": "e0f4ae9b",
   "metadata": {},
   "source": [
    "#### Model evaluation"
   ]
  },
  {
   "cell_type": "code",
   "execution_count": 137,
   "id": "6de3e751",
   "metadata": {
    "scrolled": true
   },
   "outputs": [
    {
     "data": {
      "image/png": "[encoded data removed]",
      "text/plain": [
       "<Figure size 432x288 with 1 Axes>"
      ]
     },
     "metadata": {
      "needs_background": "light"
     },
     "output_type": "display_data"
    }
   ],
   "source": [
    "#plot the training and validation accuracy and loss at each epoch\n",
    "loss = history.history['loss']\n",
    "val_loss = history.history['val_loss']\n",
    "epochs = range(1, len(loss) + 1)\n",
    "plt.plot(epochs, loss, 'y', label='Training loss')\n",
    "plt.plot(epochs, val_loss, 'r', label='Validation loss')\n",
    "plt.title('Training and validation loss')\n",
    "plt.xlabel('Epochs')\n",
    "plt.ylabel('Loss')\n",
    "plt.legend()\n",
    "plt.show()"
   ]
  },
  {
   "cell_type": "code",
   "execution_count": 33,
   "id": "98cf6292",
   "metadata": {},
   "outputs": [
    {
     "name": "stdout",
     "output_type": "stream",
     "text": [
      "INFO:tensorflow:Assets written to: saved_model/my_model\\assets\n"
     ]
    },
    {
     "name": "stderr",
     "output_type": "stream",
     "text": [
      "WARNING:absl:<keras.layers.recurrent.LSTMCell object at 0x000002108E251250> has the same name 'LSTMCell' as a built-in Keras object. Consider renaming <class 'keras.layers.recurrent.LSTMCell'> to avoid naming conflicts when loading with `tf.keras.models.load_model`. If renaming is not possible, pass the object in the `custom_objects` parameter of the load function.\n"
     ]
    }
   ],
   "source": [
    "!mkdir -p saved_model\n",
    "model.save('saved_model/my_model')"
   ]
  },
  {
   "cell_type": "markdown",
   "id": "77f1ecea",
   "metadata": {},
   "source": [
    "### If we talk about classification problems, the most common metrics used are:\n",
    "\n",
    "- Accuracy\n",
    "- Precision (P)\n",
    "- Recall (R)\n",
    "- F1 score (F1)\n",
    "\n",
    "#### We can use a classification report to look at all the above mentioned metrics\n",
    "##### A confusion matrix can also help identify which labels have issues and where the model becomes confused while making predictions.\n",
    "#### A good matrix (model) will have large values across the diagonal and small values off the diagonal.\n",
    "#### Measuring a confusion matrix provides better insight in particulars of is our classification model is getting correct and what types of errors it is creating.\n"
   ]
  },
  {
   "cell_type": "code",
   "execution_count": 150,
   "id": "eb3000a6",
   "metadata": {},
   "outputs": [],
   "source": [
    "def decode_prediction(prediction,decoded_prediction): #function to decode predcitions from our model\n",
    "    for item in prediction :\n",
    "        value = (np.array(item).argmax())\n",
    "        probability = np.max(item)\n",
    "        decoded_prediction.append(value)\n",
    "        print (list(label_map.keys())[list(label_map.values()).index(value)])\n",
    "        print (\"Accuracy of prediction is {:.2f} %\". format(probability*100))"
   ]
  },
  {
   "cell_type": "code",
   "execution_count": 151,
   "id": "f4dcd98e",
   "metadata": {},
   "outputs": [],
   "source": [
    "prediction_list = []\n",
    "y_predict = model.predict(val_padded)"
   ]
  },
  {
   "cell_type": "code",
   "execution_count": null,
   "id": "81002eb1",
   "metadata": {
    "scrolled": true
   },
   "outputs": [],
   "source": [
    "decode_prediction(y_predict,prediction_list)"
   ]
  },
  {
   "cell_type": "code",
   "execution_count": null,
   "id": "742d6593",
   "metadata": {
    "scrolled": true
   },
   "outputs": [],
   "source": []
  },
  {
   "cell_type": "code",
   "execution_count": 153,
   "id": "7f72726d",
   "metadata": {
    "scrolled": true
   },
   "outputs": [],
   "source": [
    "#Importing Confusion Matrix\n",
    "from sklearn.metrics import confusion_matrix\n",
    "#Comparing the predictions against the actual observations in y_val\n",
    "cm = confusion_matrix(prediction_list, test_data['label_vectors'])\n"
   ]
  },
  {
   "cell_type": "code",
   "execution_count": 154,
   "id": "2615c331",
   "metadata": {},
   "outputs": [
    {
     "name": "stdout",
     "output_type": "stream",
     "text": [
      "Test Accuracy : 0.9736613603473228\n",
      "\n",
      "Classification Report : \n",
      "              precision    recall  f1-score   support\n",
      "\n",
      "           0       0.00      0.00      0.00        15\n",
      "           1       1.00      0.99      0.99      6211\n",
      "           2       1.00      1.00      1.00      4621\n",
      "           3       0.94      0.96      0.95      2397\n",
      "           4       0.92      0.96      0.94      1858\n",
      "           5       0.95      0.94      0.95      1690\n",
      "           6       0.63      0.83      0.72       319\n",
      "           7       0.00      0.00      0.00        65\n",
      "           8       0.00      0.00      0.00        72\n",
      "           9       0.00      0.00      0.00        26\n",
      "\n",
      "    accuracy                           0.97     17274\n",
      "   macro avg       0.54      0.57      0.55     17274\n",
      "weighted avg       0.96      0.97      0.96     17274\n",
      "\n",
      "\n",
      "Confusion Matrix : \n",
      "[[   0    3    0    0    0    0   12    0    0    0]\n",
      " [   0 6166    1   36    1    7    0    0    0    0]\n",
      " [   0    3 4601   13    0    4    0    0    0    0]\n",
      " [   0    4   12 2300   48   30    3    0    0    0]\n",
      " [   0    1    0   39 1790   23    5    0    0    0]\n",
      " [   0    1    4   47   49 1588    1    0    0    0]\n",
      " [   0    1    0    4   39   10  265    0    0    0]\n",
      " [   0    1    0    0    9    1   54    0    0    0]\n",
      " [   0    4    0    1    2    0   65    0    0    0]\n",
      " [   0    5    0    0    0    0   17    4    0    0]]\n"
     ]
    },
    {
     "name": "stderr",
     "output_type": "stream",
     "text": [
      "C:\\Users\\Harish Vasanth\\anaconda3\\lib\\site-packages\\sklearn\\metrics\\_classification.py:1248: UndefinedMetricWarning: Precision and F-score are ill-defined and being set to 0.0 in labels with no predicted samples. Use `zero_division` parameter to control this behavior.\n",
      "  _warn_prf(average, modifier, msg_start, len(result))\n",
      "C:\\Users\\Harish Vasanth\\anaconda3\\lib\\site-packages\\sklearn\\metrics\\_classification.py:1248: UndefinedMetricWarning: Precision and F-score are ill-defined and being set to 0.0 in labels with no predicted samples. Use `zero_division` parameter to control this behavior.\n",
      "  _warn_prf(average, modifier, msg_start, len(result))\n",
      "C:\\Users\\Harish Vasanth\\anaconda3\\lib\\site-packages\\sklearn\\metrics\\_classification.py:1248: UndefinedMetricWarning: Precision and F-score are ill-defined and being set to 0.0 in labels with no predicted samples. Use `zero_division` parameter to control this behavior.\n",
      "  _warn_prf(average, modifier, msg_start, len(result))\n"
     ]
    }
   ],
   "source": [
    "print(\"Test Accuracy : {}\".format(accuracy_score(y_test, y_pred)))\n",
    "print(\"\\nClassification Report : \")\n",
    "print(classification_report(test_data['label_vectors'], prediction_list))\n",
    "print(\"\\nConfusion Matrix : \")\n",
    "print(confusion_matrix(test_data['label_vectors'], prediction_list))"
   ]
  },
  {
   "attachments": {},
   "cell_type": "markdown",
   "id": "eccfdd4c",
   "metadata": {},
   "source": [
    "#### It seems as though our model has a very high overall accuracy but a very low accuracy when it comes to some label classes. Looking at this might suggest that using a simpler model such as Naive Bayes might have beeen more effective.Simpler models are usually more suited for smaller datas with bias such as our data.\n",
    "#### We have a high precision and high recall, that means a high amount of true positives.\n",
    "#### Overall, our model is flawed but is also highly effective & accurate. "
   ]
  },
  {
   "cell_type": "code",
   "execution_count": 66,
   "id": "6ce7fed8",
   "metadata": {},
   "outputs": [],
   "source": [
    "#save the model to disk\n",
    "#import pickle\n",
    "\n",
    "#filename = 'label_model.pkl'\n",
    "#pickle_out = open(filename, 'wb')\n",
    "#pickle.dump(model, pickle_out )\n"
   ]
  },
  {
   "cell_type": "markdown",
   "id": "c76653ed",
   "metadata": {},
   "source": [
    "#### Pipeline to make a simple prediction based on our model\n",
    " \n"
   ]
  },
  {
   "cell_type": "code",
   "execution_count": 140,
   "id": "9f726fab",
   "metadata": {},
   "outputs": [],
   "source": [
    "def prediction(list): ## pipeline to run our model on a list of sentences to get the appropriate predictions.\n",
    "    tokenized_list = tokenizer.texts_to_sequences(list)\n",
    "    max_length = 20\n",
    "    list_padded = pad_sequences(tokenized_list, maxlen=max_length, padding=\"post\", truncating=\"post\")\n",
    "    undecoded_prediction = model.predict(list_padded)\n",
    "    prediction_list = []\n",
    "    decode_prediction(undecoded_prediction,prediction_list)\n",
    "    \n",
    "    \n",
    "    \n",
    "    \n",
    "    "
   ]
  },
  {
   "cell_type": "code",
   "execution_count": 141,
   "id": "966c7808",
   "metadata": {
    "scrolled": false
   },
   "outputs": [],
   "source": [
    "test = ['This Agreement will terminate when the Issuer is terminated under the Trust Agreement.']"
   ]
  },
  {
   "cell_type": "code",
   "execution_count": 142,
   "id": "c31fbf9e",
   "metadata": {},
   "outputs": [
    {
     "name": "stdout",
     "output_type": "stream",
     "text": [
      "['terminations']\n",
      "Accuracy of prediction is 83.95 %\n"
     ]
    }
   ],
   "source": [
    "prediction(test) # this is correct !!! "
   ]
  },
  {
   "cell_type": "markdown",
   "id": "690c93b6",
   "metadata": {},
   "source": [
    "# References\n",
    "\n",
    "#### 1. Data cleaning for NLP -  https://www.analyticsvidhya.com/blog/2022/01/text-cleaning-methods-in-nlp/\n",
    "#### 2. Understanding how reccurent neural networks work - https://www.youtube.com/watch?v=ySEx_Bqxvvo&t=2186s\n",
    "#### 3. Loss functions & optimisation - https://machinelearningmastery.com/how-to-choose-loss-functions-when-training-deep-learning-neural-networks/\n"
   ]
  },
  {
   "attachments": {},
   "cell_type": "markdown",
   "id": "b8b25e57",
   "metadata": {},
   "source": []
  },
  {
   "attachments": {},
   "cell_type": "markdown",
   "id": "30a7721f",
   "metadata": {},
   "source": []
  },
  {
   "attachments": {},
   "cell_type": "markdown",
   "id": "c34925a4",
   "metadata": {},
   "source": []
  },
  {
   "attachments": {},
   "cell_type": "markdown",
   "id": "7a4ac35b",
   "metadata": {},
   "source": []
  },
  {
   "attachments": {},
   "cell_type": "markdown",
   "id": "b777dbbe",
   "metadata": {},
   "source": []
  },
  {
   "cell_type": "code",
   "execution_count": null,
   "id": "373a813e",
   "metadata": {},
   "outputs": [],
   "source": [
    "\n"
   ]
  }
 ],
 "metadata": {
  "kernelspec": {
   "display_name": "Python 3 (ipykernel)",
   "language": "python",
   "name": "python3"
  },
  "language_info": {
   "codemirror_mode": {
    "name": "ipython",
    "version": 3
   },
   "file_extension": ".py",
   "mimetype": "text/x-python",
   "name": "python",
   "nbconvert_exporter": "python",
   "pygments_lexer": "ipython3",
   "version": "3.9.7"
  }
 },
 "nbformat": 4,
 "nbformat_minor": 5
}

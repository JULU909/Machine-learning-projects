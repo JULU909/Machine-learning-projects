{
 "cells": [
  {
   "cell_type": "markdown",
   "metadata": {},
   "source": [
    "# Demo for our project"
   ]
  },
  {
   "cell_type": "code",
   "execution_count": null,
   "metadata": {},
   "outputs": [],
   "source": [
    "# Install dependencies\n",
    "!pip install -r ./requirements.txt"
   ]
  },
  {
   "cell_type": "code",
   "execution_count": 21,
   "metadata": {},
   "outputs": [],
   "source": [
    "# Import libraries\n",
    "import pandas as pd\n",
    "import numpy as np\n",
    "\n",
    "import pickle\n",
    "from sklearn.neural_network import MLPClassifier\n",
    "from sklearn.feature_extraction.text import CountVectorizer\n",
    "from sklearn.metrics import confusion_matrix\n",
    "import seaborn as sb\n",
    "import matplotlib.pyplot as plt"
   ]
  },
  {
   "cell_type": "markdown",
   "metadata": {},
   "source": [
    "**<font color=#FF6900>Only models that are created using the loaded vectorisers can be used, otherwise the input size of the data and the actual input size of the model would be different.</font>**"
   ]
  },
  {
   "cell_type": "code",
   "execution_count": 5,
   "metadata": {},
   "outputs": [],
   "source": [
    "# Load vectoriser and files\n",
    "vectorizer_filename = \"./vectorizers/pickle_vectorizer.pkl\"\n",
    "model_filename = \"./pretrained_models/pickle_model_pretrained_1.pkl\"\n",
    "\n",
    "vectorizer = None\n",
    "model = None\n",
    "\n",
    "with open(vectorizer_filename, 'rb') as file:\n",
    "    vectorizer = pickle.load(file)\n",
    "    \n",
    "with open(model_filename, 'rb') as file:\n",
    "    model = pickle.load(file)\n",
    "    \n",
    "assert vectorizer is not None, \"0.o Uh oh there's a problem loading the vectorizer...\"\n",
    "assert model is not None, \"0.o Uh oh there's a problem loading the model...\""
   ]
  },
  {
   "cell_type": "code",
   "execution_count": 6,
   "metadata": {
    "collapsed": true
   },
   "outputs": [
    {
     "name": "stdout",
     "output_type": "stream",
     "text": [
      "Positive \t I think that this movie deserved a 10/10 rating on its graphics\n",
      "Negative \t This movie sucks, what a waste of money\n",
      "Negative \t What is this movie, even my three-year-old can make a better movie than this.\n",
      "Positive \t Oh my god, this movie reminds me of my late grandma, ah the memories\n",
      "Negative \t What a waste of my hard earn money\n",
      "Positive \t This movie definitely worth my $12 spent\n",
      "Positive \t good\n",
      "Negative \t bad\n",
      "Positive \t this is not good\n",
      "Negative \t this is not bad\n"
     ]
    }
   ],
   "source": [
    "from nltk.corpus import stopwords\n",
    "from nltk.stem import PorterStemmer as PS\n",
    "\n",
    "# Type in your own sentence in the list, and add the positive (1) or negative value (0) to the labels\n",
    "# We included some obvious good and bad reviews, and some not indirect good and bad ones as well\n",
    "sentences = [\"I think that this movie deserved a 10/10 rating on its graphics\",\n",
    "            \"This movie sucks, what a waste of money\",\n",
    "            \"What is this movie, even my three-year-old can make a better movie than this.\",\n",
    "            \"Oh my god, this movie reminds me of my late grandma, ah the memories\",\n",
    "            \"What a waste of my hard earn money\",\n",
    "            \"This movie definitely worth my $12 spent\",\n",
    "            \"good\",\n",
    "            \"bad\",\n",
    "            \"this is not good\",\n",
    "            \"this is not bad\"]\n",
    "\n",
    "labels = [1, 0, 0, 1, 0, 1, 1, 0, 0, 1]\n",
    "\n",
    "# Perform some preprocessing like we did before in P1, and vectorisation\n",
    "vectorized_sentences = [sen.lower().replace('[^\\w\\s]', '') for sen in sentences]\n",
    "ps = PS()\n",
    "stop_words = set(stopwords.words('english'))\n",
    "vectorized_sentences = [' '.join([ps.stem(y) for y in x.split() if y not in stop_words]) for x in sentences]\n",
    "vectorized_sentences = vectorizer.transform(sentences)\n",
    "\n",
    "predictions = model.predict(vectorized_sentences)\n",
    "\n",
    "for sen, pred in zip(sentences, predictions):\n",
    "    print(f\"{'Positive' if pred == 1 else 'Negative'} \\t {sen}\")"
   ]
  },
  {
   "cell_type": "markdown",
   "metadata": {},
   "source": [
    "#### Here are the confusion matrix, accuracy, false positive rate, and false negative rate of our demonstration."
   ]
  },
  {
   "cell_type": "code",
   "execution_count": 24,
   "metadata": {},
   "outputs": [
    {
     "data": {
      "image/png": "[encoded data removed]",
      "text/plain": [
       "<Figure size 432x288 with 2 Axes>"
      ]
     },
     "metadata": {},
     "output_type": "display_data"
    },
    {
     "name": "stdout",
     "output_type": "stream",
     "text": [
      "Accuracy\t\t: 80.00%\n",
      "False Positive Rate\t: 0.200\n",
      "False Negative Rate\t: 0.200\n"
     ]
    }
   ],
   "source": [
    "# Plot confusion matrix, and calculate accuracy, fpr, and fnr\n",
    "cm = confusion_matrix(labels, predictions)\n",
    "tn, fp, fn, tp = cm.ravel()\n",
    "acc = (tn + tp) / (tn + tp + fn + fp)\n",
    "fpr = fp / (fp + tn)\n",
    "fnr = fn / (fn + tp)\n",
    "\n",
    "ax = plt.axes()\n",
    "sb.set(font_scale=1.4)\n",
    "sb.heatmap(cm, annot=True, ax=ax)\n",
    "\n",
    "ax.set_title('Confusion Matrix')\n",
    "plt.xlabel('Actual Predictions', fontsize = 15) \n",
    "plt.ylabel('Our Predictions', fontsize = 15) \n",
    "\n",
    "plt.show()\n",
    "\n",
    "print(f\"Accuracy\\t\\t: {acc * 100:.2f}%\")\n",
    "print(f\"False Positive Rate\\t: {fpr:.3f}\")\n",
    "print(f\"False Negative Rate\\t: {fnr:.3f}\")"
   ]
  }
 ],
 "metadata": {
  "kernelspec": {
   "display_name": "Python 3",
   "language": "python",
   "name": "python3"
  },
  "language_info": {
   "codemirror_mode": {
    "name": "ipython",
    "version": 3
   },
   "file_extension": ".py",
   "mimetype": "text/x-python",
   "name": "python",
   "nbconvert_exporter": "python",
   "pygments_lexer": "ipython3",
   "version": "3.8.5"
  }
 },
 "nbformat": 4,
 "nbformat_minor": 4
}

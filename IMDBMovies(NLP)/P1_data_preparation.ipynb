{
 "cells": [
  {
   "cell_type": "markdown",
   "metadata": {
    "datalore": {
     "sheet_delimiter": true
    }
   },
   "source": [
    "# SC1015 Group 7 Project \n",
    "## Problem definition: How can we predict a movie's rating solely based on its review?\n",
    "Using sentiment analysis with a Multi-layer Perceptron Neural Network model from sklearn to analyse the language of a movie review to give an positive or negative rating."
   ]
  },
  {
   "cell_type": "markdown",
   "metadata": {
    "datalore": {
     "hide_input_from_viewers": false,
     "hide_output_from_viewers": false,
     "type": "MD"
    }
   },
   "source": [
    "## Part 1: Data Exploration"
   ]
  },
  {
   "cell_type": "markdown",
   "metadata": {
    "datalore": {
     "hide_input_from_viewers": false,
     "hide_output_from_viewers": false,
     "type": "MD"
    }
   },
   "source": [
    "### Import essential libraries"
   ]
  },
  {
   "cell_type": "code",
   "execution_count": null,
   "metadata": {},
   "outputs": [],
   "source": [
    "# Install dependencies\n",
    "!pip install -r ./requirements.txt"
   ]
  },
  {
   "cell_type": "code",
   "execution_count": 1,
   "metadata": {},
   "outputs": [],
   "source": [
    "# Some standard helper libraries\n",
    "import pandas as pd\n",
    "import numpy as np\n",
    "import seaborn as sb\n",
    "import matplotlib.pyplot as plt\n",
    "import os\n",
    "\n",
    "# Some machine learning libraries\n",
    "import nltk\n",
    "from nltk.tokenize import word_tokenize\n",
    "nltk.download('stopwords') # to download nltk stopwords"
   ]
  },
  {
   "cell_type": "markdown",
   "metadata": {
    "datalore": {
     "hide_input_from_viewers": false,
     "hide_output_from_viewers": false,
     "type": "MD"
    }
   },
   "source": [
    "### Reading the IMDb review CSV data\n",
    " #### <font color=#fc2d1e>IMPORTANT: During cleaning data process, please skip ahead and run IMDB_cleaned_data.csv located below after \"Tokenisation of data to build a classification model\" to avoid waiting an unnecessarily long time for the entire cleaning process to finish.</font>"
   ]
  },
  {
   "cell_type": "code",
   "execution_count": 2,
   "metadata": {
    "datalore": {
     "hide_input_from_viewers": false,
     "hide_output_from_viewers": false,
     "type": "CODE"
    }
   },
   "outputs": [
    {
     "data": {
      "text/html": [
       "<div>\n",
       "<style scoped>\n",
       "    .dataframe tbody tr th:only-of-type {\n",
       "        vertical-align: middle;\n",
       "    }\n",
       "\n",
       "    .dataframe tbody tr th {\n",
       "        vertical-align: top;\n",
       "    }\n",
       "\n",
       "    .dataframe thead th {\n",
       "        text-align: right;\n",
       "    }\n",
       "</style>\n",
       "<table border=\"1\" class=\"dataframe\">\n",
       "  <thead>\n",
       "    <tr style=\"text-align: right;\">\n",
       "      <th></th>\n",
       "      <th>Unnamed: 0</th>\n",
       "      <th>type</th>\n",
       "      <th>review</th>\n",
       "      <th>label</th>\n",
       "      <th>file</th>\n",
       "    </tr>\n",
       "  </thead>\n",
       "  <tbody>\n",
       "    <tr>\n",
       "      <th>0</th>\n",
       "      <td>0</td>\n",
       "      <td>test</td>\n",
       "      <td>Once again Mr. Costner has dragged out a movie...</td>\n",
       "      <td>neg</td>\n",
       "      <td>0_2.txt</td>\n",
       "    </tr>\n",
       "    <tr>\n",
       "      <th>1</th>\n",
       "      <td>1</td>\n",
       "      <td>test</td>\n",
       "      <td>This is an example of why the majority of acti...</td>\n",
       "      <td>neg</td>\n",
       "      <td>10000_4.txt</td>\n",
       "    </tr>\n",
       "    <tr>\n",
       "      <th>2</th>\n",
       "      <td>2</td>\n",
       "      <td>test</td>\n",
       "      <td>First of all I hate those moronic rappers, who...</td>\n",
       "      <td>neg</td>\n",
       "      <td>10001_1.txt</td>\n",
       "    </tr>\n",
       "    <tr>\n",
       "      <th>3</th>\n",
       "      <td>3</td>\n",
       "      <td>test</td>\n",
       "      <td>Not even the Beatles could write songs everyon...</td>\n",
       "      <td>neg</td>\n",
       "      <td>10002_3.txt</td>\n",
       "    </tr>\n",
       "    <tr>\n",
       "      <th>4</th>\n",
       "      <td>4</td>\n",
       "      <td>test</td>\n",
       "      <td>Brass pictures (movies is not a fitting word f...</td>\n",
       "      <td>neg</td>\n",
       "      <td>10003_3.txt</td>\n",
       "    </tr>\n",
       "  </tbody>\n",
       "</table>\n",
       "</div>"
      ],
      "text/plain": [
       "   Unnamed: 0  type                                             review label  \\\n",
       "0           0  test  Once again Mr. Costner has dragged out a movie...   neg   \n",
       "1           1  test  This is an example of why the majority of acti...   neg   \n",
       "2           2  test  First of all I hate those moronic rappers, who...   neg   \n",
       "3           3  test  Not even the Beatles could write songs everyon...   neg   \n",
       "4           4  test  Brass pictures (movies is not a fitting word f...   neg   \n",
       "\n",
       "          file  \n",
       "0      0_2.txt  \n",
       "1  10000_4.txt  \n",
       "2  10001_1.txt  \n",
       "3  10002_3.txt  \n",
       "4  10003_3.txt  "
      ]
     },
     "execution_count": 2,
     "metadata": {},
     "output_type": "execute_result"
    }
   ],
   "source": [
    "# Read imdb review data into a dataframe\n",
    "data = pd.read_csv('./datasets/imdb_master.csv', encoding=\"ISO-8859-1\")\n",
    "data.head()"
   ]
  },
  {
   "cell_type": "markdown",
   "metadata": {
    "datalore": {
     "hide_input_from_viewers": false,
     "hide_output_from_viewers": false,
     "type": "MD"
    }
   },
   "source": [
    "## Data visualisation to get an intuitive idea of what we are working with"
   ]
  },
  {
   "cell_type": "markdown",
   "metadata": {},
   "source": [
    "#### Words in positive and negative reviews visualisation"
   ]
  },
  {
   "cell_type": "code",
   "execution_count": 4,
   "metadata": {
    "datalore": {
     "hide_input_from_viewers": false,
     "hide_output_from_viewers": false,
     "type": "CODE"
    }
   },
   "outputs": [],
   "source": [
    "# Some data visualisation of words in negative and positive reviews\n",
    "negdatawords = data[data['label'] == 'neg']\n",
    "posdatawords = data[data['label'] == 'pos']"
   ]
  },
  {
   "cell_type": "code",
   "execution_count": null,
   "metadata": {
    "datalore": {
     "hide_input_from_viewers": false,
     "hide_output_from_viewers": false,
     "type": "CODE"
    }
   },
   "outputs": [],
   "source": [
    "from wordcloud import WordCloud\n",
    "\n",
    "# Visualising negative reviews words\n",
    "cloud = WordCloud(width=800, height=600).generate(\" \".join(negdatawords['review']))\n",
    "plt.figure(figsize=(15, 10))\n",
    "plt.title(label=\"Negative reviews words\", fontsize=20, color=\"green\")\n",
    "plt.imshow(cloud)\n",
    "plt.axis('off')"
   ]
  },
  {
   "cell_type": "code",
   "execution_count": null,
   "metadata": {
    "datalore": {
     "hide_input_from_viewers": false,
     "hide_output_from_viewers": false,
     "type": "CODE"
    }
   },
   "outputs": [],
   "source": [
    "# Visualising positive review words\n",
    "cloud = WordCloud(width=800, height=600).generate(\" \".join(posdatawords['review'])) # join function can help merge all words into one string. \" \" means space can be a sep between words.\n",
    "plt.figure(figsize=(15, 10))\n",
    "plt.title(label=\"Positive reviews words\", fontsize=20, color=\"green\")\n",
    "plt.imshow(cloud)\n",
    "plt.axis('off')"
   ]
  },
  {
   "cell_type": "markdown",
   "metadata": {},
   "source": [
    "#### Distribution of positive, negative, and unlabelled data in the dataset"
   ]
  },
  {
   "cell_type": "code",
   "execution_count": 3,
   "metadata": {
    "datalore": {
     "hide_input_from_viewers": false,
     "hide_output_from_viewers": false,
     "type": "CODE"
    }
   },
   "outputs": [
    {
     "data": {
      "text/plain": [
       "[Text(0, 0, 'neg'), Text(1, 0, 'pos'), Text(2, 0, 'unsup')]"
      ]
     },
     "execution_count": 3,
     "metadata": {},
     "output_type": "execute_result"
    },
    {
     "data": {
      "image/png": "[encoded data removed]",
      "text/plain": [
       "<Figure size 432x288 with 1 Axes>"
      ]
     },
     "metadata": {
      "needs_background": "light"
     },
     "output_type": "display_data"
    }
   ],
   "source": [
    "# Distribution of positive, negative and unlabelled data\n",
    "maindata = data[['review','label']]\n",
    "ax = maindata.groupby('label').count().plot(kind='bar', title='Distribution of data', legend=False)\n",
    "ax.set_xticklabels(['neg','pos','unsup'], rotation=0)"
   ]
  },
  {
   "cell_type": "markdown",
   "metadata": {
    "datalore": {
     "hide_input_from_viewers": false,
     "hide_output_from_viewers": false,
     "type": "MD"
    }
   },
   "source": [
    "Comment: \\\n",
    "Fairly equal distribution of data so far but still needs some cleanup. As seen above, the postive and negative datasets both have common words such as 'film' and 'movie' that would be redundant in analysing."
   ]
  },
  {
   "cell_type": "markdown",
   "metadata": {
    "datalore": {
     "hide_input_from_viewers": false,
     "hide_output_from_viewers": false,
     "type": "MD"
    }
   },
   "source": [
    "### Doing some initial data cleaning and preparation\n",
    "1. Separated 'unsup' label from the rest\n",
    "2. Removed train test label for random train and test\n",
    "3. Remove punctuation marks, make all letters lowercase, etc.\n",
    "4. **<font color=#fc2d1e>As there is a large amount of data (10000 entries), we will export the cleaned data as a CSV file and re-import it to save on the cleaning time. There is no actual need to run the subsequent codes anymore.</font>**\n"
   ]
  },
  {
   "cell_type": "markdown",
   "metadata": {
    "datalore": {
     "hide_input_from_viewers": false,
     "hide_output_from_viewers": false,
     "type": "MD"
    }
   },
   "source": [
    "#### Removing useless columns"
   ]
  },
  {
   "cell_type": "code",
   "execution_count": 16,
   "metadata": {
    "datalore": {
     "hide_input_from_viewers": false,
     "hide_output_from_viewers": false,
     "type": "CODE"
    }
   },
   "outputs": [
    {
     "name": "stdout",
     "output_type": "stream",
     "text": [
      "review    0\n",
      "label     0\n",
      "dtype: int64\n"
     ]
    }
   ],
   "source": [
    "# Removed train test label, and the other labels\n",
    "cleaned_data = data.drop(columns=['type', 'file', 'Unnamed: 0'])\n",
    "print(cleaned_data.isnull().sum()) # just to check that there's no NA values"
   ]
  },
  {
   "cell_type": "markdown",
   "metadata": {
    "datalore": {
     "hide_input_from_viewers": false,
     "hide_output_from_viewers": false,
     "type": "MD"
    }
   },
   "source": [
    "#### Make the reviews lowercase and without punctuations"
   ]
  },
  {
   "cell_type": "code",
   "execution_count": 17,
   "metadata": {
    "collapsed": true,
    "datalore": {
     "hide_input_from_viewers": false,
     "hide_output_from_viewers": false,
     "type": "CODE"
    }
   },
   "outputs": [
    {
     "name": "stderr",
     "output_type": "stream",
     "text": [
      "<ipython-input-17-c4513ac3038c>:3: FutureWarning: The default value of regex will change from True to False in a future version.\n",
      "  cleaned_data[\"cleaned_review\"] = cleaned_data['cleaned_review'].str.replace('[^\\w\\s]', '')\n"
     ]
    }
   ],
   "source": [
    "# Make letters lowercase and remove punctuations and putting them inside new dataset called 'review'\n",
    "cleaned_data[\"cleaned_review\"] = cleaned_data[\"review\"].str.lower()\n",
    "cleaned_data[\"cleaned_review\"] = cleaned_data['cleaned_review'].str.replace('[^\\w\\s]', '')"
   ]
  },
  {
   "cell_type": "code",
   "execution_count": 18,
   "metadata": {
    "collapsed": true,
    "datalore": {
     "hide_input_from_viewers": false,
     "hide_output_from_viewers": false,
     "type": "CODE"
    }
   },
   "outputs": [
    {
     "name": "stdout",
     "output_type": "stream",
     "text": [
      "                                                   review   label  \\\n",
      "count                                              100000  100000   \n",
      "unique                                              98469       3   \n",
      "top     Am not from America, I usually watch this show...   unsup   \n",
      "freq                                                    6   50000   \n",
      "\n",
      "                                           cleaned_review  \n",
      "count                                              100000  \n",
      "unique                                              98467  \n",
      "top     am not from america i usually watch this show ...  \n",
      "freq                                                    6  \n",
      "\n",
      "Dimensions: (100000, 3)\n",
      "\n",
      "review            object\n",
      "label             object\n",
      "cleaned_review    object\n",
      "dtype: object\n"
     ]
    }
   ],
   "source": [
    "# Take a peek at the data\n",
    "print(cleaned_data.describe())\n",
    "print(f\"\\nDimensions: {cleaned_data.shape}\\n\")\n",
    "print(cleaned_data.dtypes)"
   ]
  },
  {
   "cell_type": "markdown",
   "metadata": {
    "datalore": {
     "hide_input_from_viewers": false,
     "hide_output_from_viewers": false,
     "type": "MD"
    }
   },
   "source": [
    "### Tokenisation of data in order to build a classification model\n",
    "#### It means that we are going to make each word into a token to feed into the ML model, instead of feeding the model a string.\n",
    "Process includes:\n",
    "\n",
    "1. Made words into stem form\n",
    "2. Removed stop words (frequently used English words)\n",
    "3. Tokenised sentences into arrays of words"
   ]
  },
  {
   "cell_type": "code",
   "execution_count": 1,
   "metadata": {
    "datalore": {
     "hide_input_from_viewers": false,
     "hide_output_from_viewers": false,
     "type": "CODE"
    }
   },
   "outputs": [
    {
     "data": {
      "text/plain": [
       "\"\\nfrom nltk.corpus import stopwords\\nfrom nltk.stem import PorterStemmer as PS\\n\\nps = PS()\\n\\nstop_words = set(stopwords.words('english'))\\n\\n# Stemming words and removing stop words\\ncleaned_data['tokenised_review'] = [' '.join([ps.stem(y) for y in x.split() if y not in stop_words]) for x in cleaned_data['cleaned_review']]\\n\\n# Tokenising sentences into array of words\\n# This step is not really that necessary since we are going to vectorise\\n# this using a function from sklearn in the next part\\ncleaned_data['tokenised_review'] = cleaned_data['tokenised_review'].apply(lambda x: x[:].split(' '))\\n\\n\""
      ]
     },
     "execution_count": 1,
     "metadata": {},
     "output_type": "execute_result"
    }
   ],
   "source": [
    "# Tokenise the sentence into list of words (removed stopwords)\n",
    "# Don't run this I made a cleaned csv file, unless you are very free, or want to take a break for ~10 minutes\n",
    "\"\"\"\n",
    "from nltk.corpus import stopwords\n",
    "from nltk.stem import PorterStemmer as PS\n",
    "\n",
    "ps = PS()\n",
    "\n",
    "stop_words = set(stopwords.words('english'))\n",
    "\n",
    "# Stemming words and removing stop words\n",
    "cleaned_data['tokenised_review'] = [' '.join([ps.stem(y) for y in x.split() if y not in stop_words]) for x in cleaned_data['cleaned_review']]\n",
    "\n",
    "# Tokenising sentences into array of words\n",
    "# This step is not really that necessary since we are going to vectorise\n",
    "# this using a function from sklearn in the next part\n",
    "cleaned_data['tokenised_review'] = cleaned_data['tokenised_review'].apply(lambda x: x[:].split(' '))\n",
    "\n",
    "\"\"\""
   ]
  },
  {
   "cell_type": "markdown",
   "metadata": {},
   "source": [
    "#### The cleaned data csv could be found here"
   ]
  },
  {
   "cell_type": "code",
   "execution_count": 20,
   "metadata": {
    "collapsed": true,
    "datalore": {
     "hide_input_from_viewers": false,
     "hide_output_from_viewers": false,
     "type": "CODE"
    }
   },
   "outputs": [
    {
     "data": {
      "text/html": [
       "<div>\n",
       "<style scoped>\n",
       "    .dataframe tbody tr th:only-of-type {\n",
       "        vertical-align: middle;\n",
       "    }\n",
       "\n",
       "    .dataframe tbody tr th {\n",
       "        vertical-align: top;\n",
       "    }\n",
       "\n",
       "    .dataframe thead th {\n",
       "        text-align: right;\n",
       "    }\n",
       "</style>\n",
       "<table border=\"1\" class=\"dataframe\">\n",
       "  <thead>\n",
       "    <tr style=\"text-align: right;\">\n",
       "      <th></th>\n",
       "      <th>review</th>\n",
       "      <th>label</th>\n",
       "      <th>cleaned_review</th>\n",
       "      <th>tokenised_review</th>\n",
       "    </tr>\n",
       "  </thead>\n",
       "  <tbody>\n",
       "    <tr>\n",
       "      <th>0</th>\n",
       "      <td>Once again Mr. Costner has dragged out a movie...</td>\n",
       "      <td>neg</td>\n",
       "      <td>once again mr costner has dragged out a movie ...</td>\n",
       "      <td>['mr', 'costner', 'drag', 'movi', 'far', 'long...</td>\n",
       "    </tr>\n",
       "    <tr>\n",
       "      <th>1</th>\n",
       "      <td>This is an example of why the majority of acti...</td>\n",
       "      <td>neg</td>\n",
       "      <td>this is an example of why the majority of acti...</td>\n",
       "      <td>['exampl', 'major', 'action', 'film', 'gener',...</td>\n",
       "    </tr>\n",
       "    <tr>\n",
       "      <th>2</th>\n",
       "      <td>First of all I hate those moronic rappers, who...</td>\n",
       "      <td>neg</td>\n",
       "      <td>first of all i hate those moronic rappers who ...</td>\n",
       "      <td>['first', 'hate', 'moron', 'rapper', 'couldnt'...</td>\n",
       "    </tr>\n",
       "    <tr>\n",
       "      <th>3</th>\n",
       "      <td>Not even the Beatles could write songs everyon...</td>\n",
       "      <td>neg</td>\n",
       "      <td>not even the beatles could write songs everyon...</td>\n",
       "      <td>['even', 'beatl', 'could', 'write', 'song', 'e...</td>\n",
       "    </tr>\n",
       "    <tr>\n",
       "      <th>4</th>\n",
       "      <td>Brass pictures (movies is not a fitting word f...</td>\n",
       "      <td>neg</td>\n",
       "      <td>brass pictures movies is not a fitting word fo...</td>\n",
       "      <td>['brass', 'pictur', 'movi', 'fit', 'word', 're...</td>\n",
       "    </tr>\n",
       "  </tbody>\n",
       "</table>\n",
       "</div>"
      ]
     },
     "metadata": {},
     "output_type": "display_data"
    }
   ],
   "source": [
    "# Unzip the csv file if not unzipped already, uncomment line below\n",
    "# !unzip imdb_master_cleaned.zip \n",
    "cleaned_data = pd.read_csv(\"./datasets/imdb_master_cleaned.csv\")\n",
    "cleaned_data.head()"
   ]
  }
 ],
 "metadata": {
  "datalore": {
   "base_environment": "default",
   "computation_mode": "REACTIVE",
   "package_manager": "pip",
   "packages": [
    {
     "name": "nltk",
     "source": "PIP",
     "version": "3.7"
    },
    {
     "name": "pandarallel",
     "source": "PIP"
    },
    {
     "name": "wordcloud",
     "source": "PIP",
     "version": "1.8.1"
    },
    {
     "name": "textblob",
     "source": "PIP"
    }
   ],
   "version": 1
  },
  "kernelspec": {
   "display_name": "Python 3",
   "language": "python",
   "name": "python3"
  },
  "language_info": {
   "codemirror_mode": {
    "name": "ipython",
    "version": 3
   },
   "file_extension": ".py",
   "mimetype": "text/x-python",
   "name": "python",
   "nbconvert_exporter": "python",
   "pygments_lexer": "ipython3",
   "version": "3.8.5"
  }
 },
 "nbformat": 4,
 "nbformat_minor": 4
}

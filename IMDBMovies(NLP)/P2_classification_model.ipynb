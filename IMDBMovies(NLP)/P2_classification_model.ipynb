{
 "cells": [
  {
   "cell_type": "markdown",
   "metadata": {},
   "source": [
    "# SC1015 Group 7 Project \n",
    "## Problem definition: How can we predict a movie's rating solely based on its review?\n",
    "Using sentiment analysis with a Multilayer Perceptron Neural Network model from sklearn to analyse the language of a movie review to give an positive or negative rating."
   ]
  },
  {
   "cell_type": "markdown",
   "metadata": {},
   "source": [
    "## Part 2: Classification Model"
   ]
  },
  {
   "cell_type": "markdown",
   "metadata": {},
   "source": [
    "### Import essential libraries"
   ]
  },
  {
   "cell_type": "code",
   "execution_count": null,
   "metadata": {},
   "outputs": [],
   "source": [
    "# Install dependencies\n",
    "!pip install -r ./requirements.txt"
   ]
  },
  {
   "cell_type": "code",
   "execution_count": 1,
   "metadata": {},
   "outputs": [],
   "source": [
    "# Some standard helper libraries\n",
    "import pandas as pd\n",
    "import numpy as np\n",
    "import seaborn as sb\n",
    "from sklearn.metrics import confusion_matrix\n",
    "import matplotlib.pyplot as plt"
   ]
  },
  {
   "cell_type": "markdown",
   "metadata": {},
   "source": [
    "### Continuing from the last part\n",
    "#### We need to read the cleaned data from the previous part\n",
    "\n",
    "*A sklearn function will vectorise the sentence into an array of frequently used words, what we did before is to remove stop words and punctuations, as well as making all letters lowercase, so we will not be using the tokenised reviews from the last part.*"
   ]
  },
  {
   "cell_type": "code",
   "execution_count": 2,
   "metadata": {},
   "outputs": [],
   "source": [
    "# Read dataset\n",
    "data = pd.read_csv(\"./datasets/imdb_master_cleaned.csv\")\n",
    "\n",
    "# Take the data that we want\n",
    "cleaned_data = data[['cleaned_review', 'label']]  # Take 'cleaned_review' and 'label'\n",
    "cleaned_data = cleaned_data[cleaned_data['label'] != 'unsup']  # Remove 'unsup' data\n",
    "cleaned_data['label'] = np.where(cleaned_data['label'] == 'pos', 1, 0)   # Replace pos and neg with 1 and 0"
   ]
  },
  {
   "cell_type": "markdown",
   "metadata": {},
   "source": [
    "#### Vectorising the data into an array of frequently used words\n",
    "The output vectors will be of a certain length, where each index represents a certain unigram or bigram, and value represents the frequency of each words."
   ]
  },
  {
   "cell_type": "code",
   "execution_count": 3,
   "metadata": {},
   "outputs": [
    {
     "name": "stdout",
     "output_type": "stream",
     "text": [
      "Vectors will be of length 564.\n"
     ]
    }
   ],
   "source": [
    "# We import CountVectorizer to vectorise the sentences \n",
    "from sklearn.feature_extraction.text import CountVectorizer\n",
    "\n",
    "# Transform dataframe column into a list\n",
    "corpus = cleaned_data['cleaned_review'].tolist()\n",
    "\n",
    "# Initialise the vectoriser with the following parameters that we think will yields the best result\n",
    "# min_df: Vectoriser ignore terms that have a frequency lower than the given threshold\n",
    "# ngram_range: Vectoriser will include unigrams and bigrams in its vocabulary of vectorisation\n",
    "vectorizer = CountVectorizer(min_df=0.05, ngram_range=(1, 2))  \n",
    "\n",
    "X = vectorizer.fit_transform(corpus)\n",
    "\n",
    "# Get the vectorised words length, not gonna print out cause it's too long (564)\n",
    "gfn = vectorizer.get_feature_names()\n",
    "print(f\"Vectors will be of length {len(gfn)}.\")"
   ]
  },
  {
   "cell_type": "markdown",
   "metadata": {},
   "source": [
    "We can save our vectoriser into a pickle file to be used in the future."
   ]
  },
  {
   "cell_type": "code",
   "execution_count": 5,
   "metadata": {},
   "outputs": [],
   "source": [
    "# Save with current time stamp\n",
    "import pickle\n",
    "\n",
    "pkl_filename = f\"./vectorizers/pickle_vectorizer.pkl\"\n",
    "\n",
    "with open(pkl_filename, 'wb') as file:\n",
    "    pickle.dump(vectorizer, file)"
   ]
  },
  {
   "cell_type": "markdown",
   "metadata": {},
   "source": [
    "#### Splitting the dataset into train and test dataset with a 4:1 ratio"
   ]
  },
  {
   "cell_type": "code",
   "execution_count": 4,
   "metadata": {},
   "outputs": [],
   "source": [
    "from sklearn.model_selection import train_test_split\n",
    "\n",
    "# Assign X to the features (vectorised reviews) and y to labels (1 or 0) \n",
    "# and then we split the data to 80% train and 20% test\n",
    "X, y = X, cleaned_data['label']\n",
    "X_train, X_test, y_train, y_test = train_test_split(X, y, stratify=y, test_size=0.2, random_state=69420)"
   ]
  },
  {
   "cell_type": "markdown",
   "metadata": {},
   "source": [
    "#### Creating a model and training it\n",
    "We will be creating a Multi-layer Perceptron (MLP) Classifier"
   ]
  },
  {
   "cell_type": "code",
   "execution_count": 5,
   "metadata": {
    "scrolled": true
   },
   "outputs": [
    {
     "name": "stdout",
     "output_type": "stream",
     "text": [
      "Iteration 1, loss = 0.42091371\n",
      "Validation score: 0.823875\n",
      "Iteration 2, loss = 0.36109650\n",
      "Validation score: 0.829000\n",
      "Iteration 3, loss = 0.34634054\n",
      "Validation score: 0.817000\n",
      "Iteration 4, loss = 0.33176850\n",
      "Validation score: 0.831250\n",
      "Iteration 5, loss = 0.31575514\n",
      "Validation score: 0.834250\n",
      "Iteration 6, loss = 0.29771180\n",
      "Validation score: 0.825500\n",
      "Iteration 7, loss = 0.28210076\n",
      "Validation score: 0.828750\n",
      "Iteration 8, loss = 0.26051579\n",
      "Validation score: 0.829125\n",
      "Iteration 9, loss = 0.24083258\n",
      "Validation score: 0.829500\n",
      "Iteration 10, loss = 0.21506241\n",
      "Validation score: 0.827625\n",
      "Iteration 11, loss = 0.19366624\n",
      "Validation score: 0.829375\n",
      "Iteration 12, loss = 0.16702670\n",
      "Validation score: 0.828125\n",
      "Iteration 13, loss = 0.14394586\n",
      "Validation score: 0.827250\n",
      "Iteration 14, loss = 0.12705971\n",
      "Validation score: 0.823000\n",
      "Iteration 15, loss = 0.10933975\n",
      "Validation score: 0.822125\n",
      "Iteration 16, loss = 0.09058817\n",
      "Validation score: 0.828375\n",
      "Validation score did not improve more than tol=0.000100 for 10 consecutive epochs. Stopping.\n"
     ]
    },
    {
     "data": {
      "text/plain": [
       "0.8371"
      ]
     },
     "execution_count": 5,
     "metadata": {},
     "output_type": "execute_result"
    }
   ],
   "source": [
    "# Train the model with Multi-layer Perceptron (MLP) Classifier\n",
    "# Can just load if lazy train\n",
    "from sklearn.neural_network import MLPClassifier\n",
    "\n",
    "# Initialise classifier with all sorts of parameters, see more on the parameters at \n",
    "# https://scikit-learn.org/stable/modules/generated/sklearn.neural_network.MLPClassifier.html\n",
    "# We found the following parameters best suit with dataset we had (except hidden_layer_sizes)\n",
    "clf = MLPClassifier(alpha=1e-05, hidden_layer_sizes=(400, ), activation='tanh', solver='adam', verbose=1,\n",
    "                   validation_fraction=0.2, early_stopping=True)\n",
    "\n",
    "# Fitting the classifier to our dataset, and getting a score from the test dataset\n",
    "clf.fit(X_train, y_train)\n",
    "clf.score(X_test, y_test)"
   ]
  },
  {
   "cell_type": "markdown",
   "metadata": {},
   "source": [
    "*Optional: We can save a model into a pickle file, to use it later*"
   ]
  },
  {
   "cell_type": "code",
   "execution_count": 24,
   "metadata": {},
   "outputs": [],
   "source": [
    "# Save with current time stamp\n",
    "import time\n",
    "import pickle\n",
    "\n",
    "timestamp = time.strftime(\"%y%m%d_%H%M%S\")\n",
    "\n",
    "pkl_filename = f\"./pretrained_models/pickle_model_{timestamp}.pkl\"\n",
    "\n",
    "with open(pkl_filename, 'wb') as file:\n",
    "    pickle.dump(clf, file)"
   ]
  },
  {
   "cell_type": "markdown",
   "metadata": {},
   "source": [
    "#### Now we can test our freshly baked model on a separate test data (not part of our initial dataset)\n",
    "We already did some standard data cleanup on the dataset there, e.g. lowercasing the words, stemming, etc."
   ]
  },
  {
   "cell_type": "code",
   "execution_count": 6,
   "metadata": {},
   "outputs": [],
   "source": [
    "# Another dataset to test our model on\n",
    "test_dataset = pd.read_csv(\"./datasets/IMDB Dataset_cleaned.csv\")"
   ]
  },
  {
   "cell_type": "markdown",
   "metadata": {},
   "source": [
    "Of course we also need to prepare the format of the input data such that it is the same as our model's input\n",
    "\n",
    "This is what we did:\n",
    "1. Changing the dataframe columns to lists\n",
    "2. Vectorise the new reviews using our vectoriser\n",
    "3. Change the labels to 1 and 0 from positive and negative respectively"
   ]
  },
  {
   "cell_type": "code",
   "execution_count": 7,
   "metadata": {},
   "outputs": [],
   "source": [
    "test_sen = test_dataset['cleaned_review'].tolist()\n",
    "test_sen_vectorised = vectorizer.transform(test_sen)\n",
    "test_sen_label = test_dataset['sentiment'].tolist()\n",
    "test_sen_label = [1 if i.lower() == 'positive' else 0 for i in test_sen_label]"
   ]
  },
  {
   "cell_type": "markdown",
   "metadata": {},
   "source": [
    "Now we can actually test our model"
   ]
  },
  {
   "cell_type": "code",
   "execution_count": 8,
   "metadata": {},
   "outputs": [
    {
     "name": "stdout",
     "output_type": "stream",
     "text": [
      "Our model scored a 76.06% accuracy!\n",
      "\n",
      "Here is one of the predictions from our model:\n",
      "\n",
      "Our sentence: \n",
      "Having seen Carlo Lizzani's documentary on Luchino Visconti, I was bound to higher expectations before watching this film made three years later by Adam Low. But the viewer like me did get dissatisfied... I faced a need for critical opinion, which I generally don't like giving due to the fact there are no documentaries that will satisfy every viewer. There are also no documentaries that will examine a theme totally. But when I read the reviews already written on this title, I also felt a bit confused. People sometimes don't know what to criticize. Therefore, to be clear, I'll divide this film into two major parts that differ considerably: the former one about Visconti before his director's career and latter one about Visconti the director. <br /><br />The aristocratic background, all the hobbies, the wealth that young Luchino experienced and enjoyed are clearly presented. His effort in horse racing is mentioned as well as his relation with his mother so much disturbed after his parents' divorce. We also get a very accurate idea of where Luchino was brought up as a real count of Milano: in riches galore, with nannies, cooks with access to everything, in TRUE ARISTOCRACY. For instance, his father's splendid villa at Grazzano and other marvelous villas prove that. There is also an emphasis on Visconti's crucial visit in Paris in the 1930s where he met eminent people (\"left wingers\") who later had impact on his style and message in art. That clearly explains the idea of a communist with the aristocratic upbringing (a contrast at first sight). <br /><br />However, the part about his director's career, which started with OSSESSIONE during WWII and ended with INNOCENTE just before the director's death in 1976, is poorly executed. His movies are not discussed well. Why? Because there are very few people who really have something to say. Franco Zeffirelli, the director, remembers the works on LA TERRA TREMA and that is all right. There are also some interviews with Franco Rosi. But later, such movies like IL GATTOPARDO, LA CADUTA DEI REI, LA MORTE A VENEZIA or LUDWIG are mostly discussed by Helmut Berger. Although I liked the actor in the role of Ludwig, I did not like the interviews of his. Moreover, some thoughts he reveals are not accurate to entail in such a documentary... There is no mention of significant works of Visconti like CONVERSATION PIECE, there are no interviews with eminent cast Burt Lancaster. A mention about Silvana Mangano and Romy Schneider should also be made. There is one footage interview with Maria Callas that appears to be interesting but that is only a short bit. Franco Zeffirelli, though I appreciate him as a director, makes fun of it all rather than says something really precious. For instance, he mentions the event how Visconti separated from him after years of service. Therefore, I say: simplified and unsatisfactory. <br /><br />What I find a strong point here are footage interviews with Visconti himself. As a result, we may get his own opinion about his works. For instance, I very much appreciate the words he says about death regarding it as a normal chapter of life and as natural as birth itself. He also discusses his health problems after the stroke while filming LUDWIG.<br /><br />I believe it is better to see LUCHINO VISCONTI (1999) by Carlo Lizzani than this doc. Although it is shorter and condensed as a whole, you will get a better idea of the director. Visconti would be furious about that and the fury of his usually turned people's emotions and viewpoints into stone... 4/10\n",
      "\n",
      "Our prediction\t: Positive\n",
      "Actual label\t: Negative\n"
     ]
    }
   ],
   "source": [
    "# To print random sentences from test dataset for show\n",
    "import random\n",
    "test_sen_length = len(test_sen)\n",
    "actual_sentences = test_dataset['review'].tolist()\n",
    "\n",
    "# Make predictions given input\n",
    "predictions = clf.predict(test_sen_vectorised)\n",
    "\n",
    "print(f\"Our model scored a {clf.score(test_sen_vectorised, test_sen_label) * 100:.2f}% accuracy!\\n\")\n",
    "\n",
    "print(\"Here is one of the predictions from our model:\\n\")\n",
    "\n",
    "num = random.randint(0, test_sen_length)\n",
    "print(\"Our sentence: \")\n",
    "print(actual_sentences[num])\n",
    "print()\n",
    "print(f\"Our prediction\\t: {'Negative' if predictions[num] == 0 else 'Positive'}\")\n",
    "print(f\"Actual label\\t: {'Negative' if test_sen_label[num] == 0 else 'Positive'}\")"
   ]
  },
  {
   "cell_type": "code",
   "execution_count": 10,
   "metadata": {},
   "outputs": [
    {
     "data": {
      "image/png": "[encoded data removed]",
      "text/plain": [
       "<Figure size 432x288 with 2 Axes>"
      ]
     },
     "metadata": {},
     "output_type": "display_data"
    },
    {
     "name": "stdout",
     "output_type": "stream",
     "text": [
      "Accuracy\t\t: 76.06%\n",
      "False Positive Rate\t: 0.304\n",
      "False Negative Rate\t: 0.175\n"
     ]
    }
   ],
   "source": [
    "# Plot confusion matrix, and calculate accuracy, fpr, and fnr\n",
    "cm = confusion_matrix(test_sen_label, predictions)\n",
    "tn, fp, fn, tp = cm.ravel()\n",
    "acc = (tn + tp) / (tn + tp + fn + fp)\n",
    "fpr = fp / (fp + tn)\n",
    "fnr = fn / (fn + tp)\n",
    "\n",
    "ax = plt.axes()\n",
    "sb.set(font_scale=1.4)\n",
    "sb.heatmap(cm, annot=True, ax=ax)\n",
    "\n",
    "ax.set_title('Confusion Matrix')\n",
    "plt.xlabel('Actual Predictions', fontsize = 15) \n",
    "plt.ylabel('Our Predictions', fontsize = 15) \n",
    "\n",
    "plt.show()\n",
    "\n",
    "print(f\"Accuracy\\t\\t: {acc * 100:.2f}%\")\n",
    "print(f\"False Positive Rate\\t: {fpr:.3f}\")\n",
    "print(f\"False Negative Rate\\t: {fnr:.3f}\")"
   ]
  },
  {
   "cell_type": "markdown",
   "metadata": {},
   "source": [
    "#### We can also load a pre-trained model using the pickle library"
   ]
  },
  {
   "cell_type": "code",
   "execution_count": 11,
   "metadata": {},
   "outputs": [
    {
     "name": "stdout",
     "output_type": "stream",
     "text": [
      "Our model scored a 76.03% accuracy!\n",
      "\n",
      "Here is one of the predictions from our model:\n",
      "\n",
      "Our sentence: \n",
      "Hilarious, clean, light-hearted, and quote-worthy. What else can you ask for in a film? This is my all-time, number one favorite movie. Ever since I was a little girl, I've dreamed of owning a blue van with flames and an observation bubble.<br /><br />The cliché characters in ridiculous situations are what make this film such great fun. The wonderful comedic chemistry between Stephen Furst (Harold) and Andy Tennant (Melio) make up most of my favorite parts of the movie. And who didn't love the hopeless awkwardness of Flynch? Don't forget the airport antics of Leon's cronies, dressed up as Hari Krishnas: dancing, chanting and playing the tambourine--unbeatable! The clues are genius, the locations are classic, and the plot is timeless.<br /><br />A word to the wise, if you didn't watch this film when you were little, it probably won't win a place in your heart today. But nevertheless give it a chance, you may find that \"It doesn't matter what you say, it doesn't matter what you do, you've gotta play.\"\n",
      "\n",
      "Our prediction\t: Positive\n",
      "Actual label\t: Positive\n"
     ]
    }
   ],
   "source": [
    "# To save or load a pre-trained model\n",
    "import pickle\n",
    "import random\n",
    "\n",
    "# Path to our pre-trained model file, end with .pkl\n",
    "filename = \"./pretrained_models/pickle_model_pretrained_1.pkl\" \n",
    "\n",
    "# To print random sentences from test dataset for show\n",
    "test_sen_length = len(test_sen)\n",
    "actual_sentences = test_dataset['review'].tolist()\n",
    "\n",
    "# Load model and make predictions with pre-trained model\n",
    "with open(filename, 'rb') as file:\n",
    "    pickle_model = pickle.load(file)\n",
    "    \n",
    "predictions = pickle_model.predict(test_sen_vectorised)\n",
    "\n",
    "print(f\"Our model scored a {pickle_model.score(test_sen_vectorised, test_sen_label) * 100:.2f}% accuracy!\\n\")\n",
    "\n",
    "print(\"Here is one of the predictions from our model:\\n\")\n",
    "\n",
    "num = random.randint(0, test_sen_length)\n",
    "print(\"Our sentence: \")\n",
    "print(actual_sentences[num])\n",
    "print()\n",
    "print(f\"Our prediction\\t: {'Negative' if predictions[num] == 0 else 'Positive'}\")\n",
    "print(f\"Actual label\\t: {'Negative' if test_sen_label[num] == 0 else 'Positive'}\")"
   ]
  },
  {
   "cell_type": "code",
   "execution_count": 14,
   "metadata": {},
   "outputs": [
    {
     "data": {
      "image/png": "[encoded data removed]",
      "text/plain": [
       "<Figure size 432x288 with 2 Axes>"
      ]
     },
     "metadata": {},
     "output_type": "display_data"
    },
    {
     "name": "stdout",
     "output_type": "stream",
     "text": [
      "Accuracy\t\t: 76.03%\n",
      "False Positive Rate\t: 0.238\n",
      "False Negative Rate\t: 0.241\n"
     ]
    }
   ],
   "source": [
    "# Plot confusion matrix, and calculate accuracy, fpr, and fnr\n",
    "cm = confusion_matrix(test_sen_label, predictions)\n",
    "tn, fp, fn, tp = cm.ravel()\n",
    "acc = (tn + tp) / (tn + tp + fn + fp)\n",
    "fpr = fp / (fp + tn)\n",
    "fnr = fn / (fn + tp)\n",
    "\n",
    "ax = plt.axes()\n",
    "sb.set(font_scale=1.4)\n",
    "sb.heatmap(cm, annot=True, ax=ax)\n",
    "\n",
    "ax.set_title('Confusion Matrix')\n",
    "plt.xlabel('Actual Predictions', fontsize = 15) \n",
    "plt.ylabel('Our Predictions', fontsize = 15) \n",
    "\n",
    "plt.show()\n",
    "\n",
    "print(f\"Accuracy\\t\\t: {acc * 100:.2f}%\")\n",
    "print(f\"False Positive Rate\\t: {fpr:.3f}\")\n",
    "print(f\"False Negative Rate\\t: {fnr:.3f}\")"
   ]
  }
 ],
 "metadata": {
  "kernelspec": {
   "display_name": "Python 3",
   "language": "python",
   "name": "python3"
  },
  "language_info": {
   "codemirror_mode": {
    "name": "ipython",
    "version": 3
   },
   "file_extension": ".py",
   "mimetype": "text/x-python",
   "name": "python",
   "nbconvert_exporter": "python",
   "pygments_lexer": "ipython3",
   "version": "3.8.5"
  }
 },
 "nbformat": 4,
 "nbformat_minor": 4
}
